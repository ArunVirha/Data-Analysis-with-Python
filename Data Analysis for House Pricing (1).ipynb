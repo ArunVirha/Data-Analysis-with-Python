{
 "cells": [
  {
   "cell_type": "markdown",
   "metadata": {},
   "source": [
    "# Data Analysis with Python-Project\n",
    "\n",
    "**Predicting House price**"
   ]
  },
  {
   "cell_type": "markdown",
   "metadata": {},
   "source": [
    "We are here to analyse the data for Housing price prediction. We will work on better fit of the model, evaluation and interpratation"
   ]
  },
  {
   "cell_type": "markdown",
   "metadata": {},
   "source": [
    "<h2>Table of content</h2>\n",
    "\n",
    "<div class=\"alert alert-block alert-info\" style=\"margin-top: 20px\">\n",
    "<ul>\n",
    "    <li><a>Linear Regression</a>\n",
    "        <ul>\n",
    "            <li><a>Importing Dataset</a></li>\n",
    "            <li><a>Data Wrangling</a></li>\n",
    "            <li><a>Exploratory Data Analysis</a></li>\n",
    "            <li><a>Model Development</a></li>\n",
    "            <li><a>Model Evaluation and Refinement</a></li>\n",
    "            <li><a>Conclusion</a></li>\n",
    "        </ul>\n",
    "    </li>\n",
    "</ul>\n",
    "</div>\n",
    " \n",
    "<hr>"
   ]
  },
  {
   "cell_type": "markdown",
   "metadata": {},
   "source": [
    "### Linear Regression"
   ]
  },
  {
   "cell_type": "markdown",
   "metadata": {},
   "source": [
    "Linear regression models are used to show or predict the relationship between two variables or factors. The factor(y) that is being predicted  is called the dependent variable, based on a given independent variable (x). So, this regression technique finds out a linear relationship between x (input) and y(output). Hence, the name is Linear Regression. If we plot the independent variable(s), x on the x-axis and dependent variable, y on the y-axis, linear regression gives us a straight line that best fits the data points."
   ]
  },
  {
   "cell_type": "markdown",
   "metadata": {},
   "source": [
    "This dataset contains house sale prices for King County, which includes Seattle. It includes homes sold between May 2014 and May 2015."
   ]
  },
  {
   "cell_type": "markdown",
   "metadata": {},
   "source": [
    "<b>id</b> :a notation for a house\n",
    "\n",
    "<b> date</b>: Date house was sold\n",
    "\n",
    "<b>price</b>: Price is prediction target\n",
    "\n",
    "<b>bedrooms</b>: Number of Bedrooms/House\n",
    "\n",
    "<b>bathrooms</b>: Number of bathrooms/bedrooms\n",
    "\n",
    "<b>sqft_living</b>: square footage of the home\n",
    "\n",
    "<b>sqft_lot</b>: square footage of the lot\n",
    "\n",
    "<b>floors</b> :Total floors (levels) in house\n",
    "\n",
    "<b>waterfront</b> :House which has a view to a waterfront\n",
    "\n",
    "<b>view</b>: Has been viewed\n",
    "\n",
    "<b>condition</b> :How good the condition is  Overall\n",
    "\n",
    "<b>grade</b>: overall grade given to the housing unit, based on King County grading system\n",
    "\n",
    "\n",
    "<b>sqft_above</b> :square footage of house apart from basement\n",
    "\n",
    "\n",
    "<b>sqft_basement</b>: square footage of the basement\n",
    "\n",
    "<b>yr_built</b> :Built Year\n",
    "\n",
    "\n",
    "<b>yr_renovated</b> :Year when house was renovated\n",
    "\n",
    "<b>zipcode</b>:zip code\n",
    "\n",
    "\n",
    "<b>lat</b>: Latitude coordinate\n",
    "\n",
    "<b>long</b>: Longitude coordinate\n",
    "\n",
    "<b>sqft_living15</b> :Living room area in 2015(implies-- some renovations) This might or might not have affected the lotsize area\n",
    "\n",
    "\n",
    "<b>sqft_lot15</b> :lotSize area in 2015(implies-- some renovations)"
   ]
  },
  {
   "cell_type": "markdown",
   "metadata": {},
   "source": [
    "Now, we will anlayse the data step by step starting from the first step of understanding data."
   ]
  },
  {
   "cell_type": "markdown",
   "metadata": {},
   "source": [
    "#### Required Libraries"
   ]
  },
  {
   "cell_type": "code",
   "execution_count": 252,
   "metadata": {},
   "outputs": [],
   "source": [
    "import pandas as pd\n",
    "import numpy as np\n",
    "import seaborn as sns\n",
    "from sklearn.pipeline import Pipeline\n",
    "from sklearn.preprocessing import StandardScaler,PolynomialFeatures\n",
    "import matplotlib.pyplot as plt\n",
    "%matplotlib inline\n",
    "from datetime import date"
   ]
  },
  {
   "cell_type": "markdown",
   "metadata": {},
   "source": [
    "### 1. Importing the Data "
   ]
  },
  {
   "cell_type": "code",
   "execution_count": 153,
   "metadata": {},
   "outputs": [
    {
     "data": {
      "text/html": [
       "<div>\n",
       "<style scoped>\n",
       "    .dataframe tbody tr th:only-of-type {\n",
       "        vertical-align: middle;\n",
       "    }\n",
       "\n",
       "    .dataframe tbody tr th {\n",
       "        vertical-align: top;\n",
       "    }\n",
       "\n",
       "    .dataframe thead th {\n",
       "        text-align: right;\n",
       "    }\n",
       "</style>\n",
       "<table border=\"1\" class=\"dataframe\">\n",
       "  <thead>\n",
       "    <tr style=\"text-align: right;\">\n",
       "      <th></th>\n",
       "      <th>id</th>\n",
       "      <th>date</th>\n",
       "      <th>price</th>\n",
       "      <th>bedrooms</th>\n",
       "      <th>bathrooms</th>\n",
       "      <th>sqft_living</th>\n",
       "      <th>sqft_lot</th>\n",
       "      <th>floors</th>\n",
       "      <th>waterfront</th>\n",
       "      <th>view</th>\n",
       "      <th>...</th>\n",
       "      <th>grade</th>\n",
       "      <th>sqft_above</th>\n",
       "      <th>sqft_basement</th>\n",
       "      <th>yr_built</th>\n",
       "      <th>yr_renovated</th>\n",
       "      <th>zipcode</th>\n",
       "      <th>lat</th>\n",
       "      <th>long</th>\n",
       "      <th>sqft_living15</th>\n",
       "      <th>sqft_lot15</th>\n",
       "    </tr>\n",
       "  </thead>\n",
       "  <tbody>\n",
       "    <tr>\n",
       "      <th>0</th>\n",
       "      <td>7.129301e+09</td>\n",
       "      <td>20141013T000000</td>\n",
       "      <td>221900.0</td>\n",
       "      <td>3.0</td>\n",
       "      <td>1.00</td>\n",
       "      <td>1180.0</td>\n",
       "      <td>5650.0</td>\n",
       "      <td>1.0</td>\n",
       "      <td>0.0</td>\n",
       "      <td>0.0</td>\n",
       "      <td>...</td>\n",
       "      <td>7.0</td>\n",
       "      <td>1180.0</td>\n",
       "      <td>0.0</td>\n",
       "      <td>1955.0</td>\n",
       "      <td>0.0</td>\n",
       "      <td>98178.0</td>\n",
       "      <td>47.5112</td>\n",
       "      <td>-122.257</td>\n",
       "      <td>1340.0</td>\n",
       "      <td>5650.0</td>\n",
       "    </tr>\n",
       "    <tr>\n",
       "      <th>1</th>\n",
       "      <td>6.414100e+09</td>\n",
       "      <td>20141209T000000</td>\n",
       "      <td>538000.0</td>\n",
       "      <td>3.0</td>\n",
       "      <td>2.25</td>\n",
       "      <td>2570.0</td>\n",
       "      <td>7242.0</td>\n",
       "      <td>2.0</td>\n",
       "      <td>0.0</td>\n",
       "      <td>0.0</td>\n",
       "      <td>...</td>\n",
       "      <td>7.0</td>\n",
       "      <td>2170.0</td>\n",
       "      <td>400.0</td>\n",
       "      <td>1951.0</td>\n",
       "      <td>1991.0</td>\n",
       "      <td>98125.0</td>\n",
       "      <td>47.7210</td>\n",
       "      <td>-122.319</td>\n",
       "      <td>1690.0</td>\n",
       "      <td>7639.0</td>\n",
       "    </tr>\n",
       "    <tr>\n",
       "      <th>2</th>\n",
       "      <td>5.631500e+09</td>\n",
       "      <td>20150225T000000</td>\n",
       "      <td>180000.0</td>\n",
       "      <td>2.0</td>\n",
       "      <td>1.00</td>\n",
       "      <td>770.0</td>\n",
       "      <td>10000.0</td>\n",
       "      <td>1.0</td>\n",
       "      <td>0.0</td>\n",
       "      <td>0.0</td>\n",
       "      <td>...</td>\n",
       "      <td>6.0</td>\n",
       "      <td>770.0</td>\n",
       "      <td>0.0</td>\n",
       "      <td>1933.0</td>\n",
       "      <td>0.0</td>\n",
       "      <td>98028.0</td>\n",
       "      <td>47.7379</td>\n",
       "      <td>-122.233</td>\n",
       "      <td>2720.0</td>\n",
       "      <td>8062.0</td>\n",
       "    </tr>\n",
       "    <tr>\n",
       "      <th>3</th>\n",
       "      <td>2.487201e+09</td>\n",
       "      <td>20141209T000000</td>\n",
       "      <td>604000.0</td>\n",
       "      <td>4.0</td>\n",
       "      <td>3.00</td>\n",
       "      <td>1960.0</td>\n",
       "      <td>5000.0</td>\n",
       "      <td>1.0</td>\n",
       "      <td>0.0</td>\n",
       "      <td>0.0</td>\n",
       "      <td>...</td>\n",
       "      <td>7.0</td>\n",
       "      <td>1050.0</td>\n",
       "      <td>910.0</td>\n",
       "      <td>1965.0</td>\n",
       "      <td>0.0</td>\n",
       "      <td>98136.0</td>\n",
       "      <td>47.5208</td>\n",
       "      <td>-122.393</td>\n",
       "      <td>1360.0</td>\n",
       "      <td>5000.0</td>\n",
       "    </tr>\n",
       "    <tr>\n",
       "      <th>4</th>\n",
       "      <td>1.954401e+09</td>\n",
       "      <td>20150218T000000</td>\n",
       "      <td>510000.0</td>\n",
       "      <td>3.0</td>\n",
       "      <td>2.00</td>\n",
       "      <td>1680.0</td>\n",
       "      <td>8080.0</td>\n",
       "      <td>1.0</td>\n",
       "      <td>0.0</td>\n",
       "      <td>0.0</td>\n",
       "      <td>...</td>\n",
       "      <td>8.0</td>\n",
       "      <td>1680.0</td>\n",
       "      <td>0.0</td>\n",
       "      <td>1987.0</td>\n",
       "      <td>0.0</td>\n",
       "      <td>98074.0</td>\n",
       "      <td>47.6168</td>\n",
       "      <td>-122.045</td>\n",
       "      <td>1800.0</td>\n",
       "      <td>7503.0</td>\n",
       "    </tr>\n",
       "    <tr>\n",
       "      <th>5</th>\n",
       "      <td>7.237550e+09</td>\n",
       "      <td>20140512T000000</td>\n",
       "      <td>1225000.0</td>\n",
       "      <td>4.0</td>\n",
       "      <td>4.50</td>\n",
       "      <td>5420.0</td>\n",
       "      <td>101930.0</td>\n",
       "      <td>1.0</td>\n",
       "      <td>0.0</td>\n",
       "      <td>0.0</td>\n",
       "      <td>...</td>\n",
       "      <td>11.0</td>\n",
       "      <td>3890.0</td>\n",
       "      <td>1530.0</td>\n",
       "      <td>2001.0</td>\n",
       "      <td>0.0</td>\n",
       "      <td>98053.0</td>\n",
       "      <td>47.6561</td>\n",
       "      <td>-122.005</td>\n",
       "      <td>4760.0</td>\n",
       "      <td>101930.0</td>\n",
       "    </tr>\n",
       "    <tr>\n",
       "      <th>6</th>\n",
       "      <td>1.321400e+09</td>\n",
       "      <td>20140627T000000</td>\n",
       "      <td>257500.0</td>\n",
       "      <td>3.0</td>\n",
       "      <td>2.25</td>\n",
       "      <td>1715.0</td>\n",
       "      <td>6819.0</td>\n",
       "      <td>2.0</td>\n",
       "      <td>0.0</td>\n",
       "      <td>0.0</td>\n",
       "      <td>...</td>\n",
       "      <td>7.0</td>\n",
       "      <td>1715.0</td>\n",
       "      <td>0.0</td>\n",
       "      <td>1995.0</td>\n",
       "      <td>0.0</td>\n",
       "      <td>98003.0</td>\n",
       "      <td>47.3097</td>\n",
       "      <td>-122.327</td>\n",
       "      <td>2238.0</td>\n",
       "      <td>6819.0</td>\n",
       "    </tr>\n",
       "    <tr>\n",
       "      <th>7</th>\n",
       "      <td>2.008000e+09</td>\n",
       "      <td>20150115T000000</td>\n",
       "      <td>291850.0</td>\n",
       "      <td>3.0</td>\n",
       "      <td>1.50</td>\n",
       "      <td>1060.0</td>\n",
       "      <td>9711.0</td>\n",
       "      <td>1.0</td>\n",
       "      <td>0.0</td>\n",
       "      <td>0.0</td>\n",
       "      <td>...</td>\n",
       "      <td>7.0</td>\n",
       "      <td>1060.0</td>\n",
       "      <td>0.0</td>\n",
       "      <td>1963.0</td>\n",
       "      <td>0.0</td>\n",
       "      <td>98198.0</td>\n",
       "      <td>47.4095</td>\n",
       "      <td>-122.315</td>\n",
       "      <td>1650.0</td>\n",
       "      <td>9711.0</td>\n",
       "    </tr>\n",
       "    <tr>\n",
       "      <th>8</th>\n",
       "      <td>2.414600e+09</td>\n",
       "      <td>20150415T000000</td>\n",
       "      <td>229500.0</td>\n",
       "      <td>3.0</td>\n",
       "      <td>1.00</td>\n",
       "      <td>1780.0</td>\n",
       "      <td>7470.0</td>\n",
       "      <td>1.0</td>\n",
       "      <td>0.0</td>\n",
       "      <td>0.0</td>\n",
       "      <td>...</td>\n",
       "      <td>7.0</td>\n",
       "      <td>1050.0</td>\n",
       "      <td>730.0</td>\n",
       "      <td>1960.0</td>\n",
       "      <td>0.0</td>\n",
       "      <td>98146.0</td>\n",
       "      <td>47.5123</td>\n",
       "      <td>-122.337</td>\n",
       "      <td>1780.0</td>\n",
       "      <td>8113.0</td>\n",
       "    </tr>\n",
       "    <tr>\n",
       "      <th>9</th>\n",
       "      <td>3.793500e+09</td>\n",
       "      <td>20150312T000000</td>\n",
       "      <td>323000.0</td>\n",
       "      <td>3.0</td>\n",
       "      <td>2.50</td>\n",
       "      <td>1890.0</td>\n",
       "      <td>6560.0</td>\n",
       "      <td>2.0</td>\n",
       "      <td>0.0</td>\n",
       "      <td>0.0</td>\n",
       "      <td>...</td>\n",
       "      <td>7.0</td>\n",
       "      <td>1890.0</td>\n",
       "      <td>0.0</td>\n",
       "      <td>2003.0</td>\n",
       "      <td>0.0</td>\n",
       "      <td>98038.0</td>\n",
       "      <td>47.3684</td>\n",
       "      <td>-122.031</td>\n",
       "      <td>2390.0</td>\n",
       "      <td>7570.0</td>\n",
       "    </tr>\n",
       "  </tbody>\n",
       "</table>\n",
       "<p>10 rows × 21 columns</p>\n",
       "</div>"
      ],
      "text/plain": [
       "             id             date      price  bedrooms  bathrooms  sqft_living  \\\n",
       "0  7.129301e+09  20141013T000000   221900.0       3.0       1.00       1180.0   \n",
       "1  6.414100e+09  20141209T000000   538000.0       3.0       2.25       2570.0   \n",
       "2  5.631500e+09  20150225T000000   180000.0       2.0       1.00        770.0   \n",
       "3  2.487201e+09  20141209T000000   604000.0       4.0       3.00       1960.0   \n",
       "4  1.954401e+09  20150218T000000   510000.0       3.0       2.00       1680.0   \n",
       "5  7.237550e+09  20140512T000000  1225000.0       4.0       4.50       5420.0   \n",
       "6  1.321400e+09  20140627T000000   257500.0       3.0       2.25       1715.0   \n",
       "7  2.008000e+09  20150115T000000   291850.0       3.0       1.50       1060.0   \n",
       "8  2.414600e+09  20150415T000000   229500.0       3.0       1.00       1780.0   \n",
       "9  3.793500e+09  20150312T000000   323000.0       3.0       2.50       1890.0   \n",
       "\n",
       "   sqft_lot  floors  waterfront  view  ...  grade  sqft_above  sqft_basement  \\\n",
       "0    5650.0     1.0         0.0   0.0  ...    7.0      1180.0            0.0   \n",
       "1    7242.0     2.0         0.0   0.0  ...    7.0      2170.0          400.0   \n",
       "2   10000.0     1.0         0.0   0.0  ...    6.0       770.0            0.0   \n",
       "3    5000.0     1.0         0.0   0.0  ...    7.0      1050.0          910.0   \n",
       "4    8080.0     1.0         0.0   0.0  ...    8.0      1680.0            0.0   \n",
       "5  101930.0     1.0         0.0   0.0  ...   11.0      3890.0         1530.0   \n",
       "6    6819.0     2.0         0.0   0.0  ...    7.0      1715.0            0.0   \n",
       "7    9711.0     1.0         0.0   0.0  ...    7.0      1060.0            0.0   \n",
       "8    7470.0     1.0         0.0   0.0  ...    7.0      1050.0          730.0   \n",
       "9    6560.0     2.0         0.0   0.0  ...    7.0      1890.0            0.0   \n",
       "\n",
       "   yr_built  yr_renovated  zipcode      lat     long  sqft_living15  \\\n",
       "0    1955.0           0.0  98178.0  47.5112 -122.257         1340.0   \n",
       "1    1951.0        1991.0  98125.0  47.7210 -122.319         1690.0   \n",
       "2    1933.0           0.0  98028.0  47.7379 -122.233         2720.0   \n",
       "3    1965.0           0.0  98136.0  47.5208 -122.393         1360.0   \n",
       "4    1987.0           0.0  98074.0  47.6168 -122.045         1800.0   \n",
       "5    2001.0           0.0  98053.0  47.6561 -122.005         4760.0   \n",
       "6    1995.0           0.0  98003.0  47.3097 -122.327         2238.0   \n",
       "7    1963.0           0.0  98198.0  47.4095 -122.315         1650.0   \n",
       "8    1960.0           0.0  98146.0  47.5123 -122.337         1780.0   \n",
       "9    2003.0           0.0  98038.0  47.3684 -122.031         2390.0   \n",
       "\n",
       "   sqft_lot15  \n",
       "0      5650.0  \n",
       "1      7639.0  \n",
       "2      8062.0  \n",
       "3      5000.0  \n",
       "4      7503.0  \n",
       "5    101930.0  \n",
       "6      6819.0  \n",
       "7      9711.0  \n",
       "8      8113.0  \n",
       "9      7570.0  \n",
       "\n",
       "[10 rows x 21 columns]"
      ]
     },
     "execution_count": 153,
     "metadata": {},
     "output_type": "execute_result"
    }
   ],
   "source": [
    "data = pd.read_csv('C:/Users/hp/Downloads/house_data.csv')\n",
    "data.head(10)"
   ]
  },
  {
   "cell_type": "markdown",
   "metadata": {},
   "source": [
    "Displaying data types of each column using the attribute dtype"
   ]
  },
  {
   "cell_type": "code",
   "execution_count": 154,
   "metadata": {},
   "outputs": [
    {
     "data": {
      "text/plain": [
       "id               float64\n",
       "date              object\n",
       "price            float64\n",
       "bedrooms         float64\n",
       "bathrooms        float64\n",
       "sqft_living      float64\n",
       "sqft_lot         float64\n",
       "floors           float64\n",
       "waterfront       float64\n",
       "view             float64\n",
       "condition        float64\n",
       "grade            float64\n",
       "sqft_above       float64\n",
       "sqft_basement    float64\n",
       "yr_built         float64\n",
       "yr_renovated     float64\n",
       "zipcode          float64\n",
       "lat              float64\n",
       "long             float64\n",
       "sqft_living15    float64\n",
       "sqft_lot15       float64\n",
       "dtype: object"
      ]
     },
     "execution_count": 154,
     "metadata": {},
     "output_type": "execute_result"
    }
   ],
   "source": [
    "data.dtypes"
   ]
  },
  {
   "cell_type": "markdown",
   "metadata": {},
   "source": [
    "We see that all variables are float type except time."
   ]
  },
  {
   "cell_type": "markdown",
   "metadata": {},
   "source": [
    "**Statistical Summary:**"
   ]
  },
  {
   "cell_type": "code",
   "execution_count": 155,
   "metadata": {},
   "outputs": [
    {
     "data": {
      "text/html": [
       "<div>\n",
       "<style scoped>\n",
       "    .dataframe tbody tr th:only-of-type {\n",
       "        vertical-align: middle;\n",
       "    }\n",
       "\n",
       "    .dataframe tbody tr th {\n",
       "        vertical-align: top;\n",
       "    }\n",
       "\n",
       "    .dataframe thead th {\n",
       "        text-align: right;\n",
       "    }\n",
       "</style>\n",
       "<table border=\"1\" class=\"dataframe\">\n",
       "  <thead>\n",
       "    <tr style=\"text-align: right;\">\n",
       "      <th></th>\n",
       "      <th>id</th>\n",
       "      <th>price</th>\n",
       "      <th>bedrooms</th>\n",
       "      <th>bathrooms</th>\n",
       "      <th>sqft_living</th>\n",
       "      <th>sqft_lot</th>\n",
       "      <th>floors</th>\n",
       "      <th>waterfront</th>\n",
       "      <th>view</th>\n",
       "      <th>condition</th>\n",
       "      <th>grade</th>\n",
       "      <th>sqft_above</th>\n",
       "      <th>sqft_basement</th>\n",
       "      <th>yr_built</th>\n",
       "      <th>yr_renovated</th>\n",
       "      <th>zipcode</th>\n",
       "      <th>lat</th>\n",
       "      <th>long</th>\n",
       "      <th>sqft_living15</th>\n",
       "      <th>sqft_lot15</th>\n",
       "    </tr>\n",
       "  </thead>\n",
       "  <tbody>\n",
       "    <tr>\n",
       "      <th>count</th>\n",
       "      <td>2.159700e+04</td>\n",
       "      <td>2.159700e+04</td>\n",
       "      <td>21597.000000</td>\n",
       "      <td>21597.000000</td>\n",
       "      <td>21597.000000</td>\n",
       "      <td>2.159700e+04</td>\n",
       "      <td>21597.000000</td>\n",
       "      <td>21597.000000</td>\n",
       "      <td>21597.000000</td>\n",
       "      <td>21597.000000</td>\n",
       "      <td>21597.000000</td>\n",
       "      <td>21597.000000</td>\n",
       "      <td>21597.000000</td>\n",
       "      <td>21597.000000</td>\n",
       "      <td>21597.000000</td>\n",
       "      <td>21597.000000</td>\n",
       "      <td>21597.000000</td>\n",
       "      <td>21597.000000</td>\n",
       "      <td>21597.000000</td>\n",
       "      <td>21597.000000</td>\n",
       "    </tr>\n",
       "    <tr>\n",
       "      <th>mean</th>\n",
       "      <td>4.580474e+09</td>\n",
       "      <td>5.402029e+05</td>\n",
       "      <td>3.373200</td>\n",
       "      <td>2.115826</td>\n",
       "      <td>2080.321850</td>\n",
       "      <td>1.509941e+04</td>\n",
       "      <td>1.494096</td>\n",
       "      <td>0.007547</td>\n",
       "      <td>0.234292</td>\n",
       "      <td>3.409825</td>\n",
       "      <td>7.657915</td>\n",
       "      <td>1788.596842</td>\n",
       "      <td>291.725008</td>\n",
       "      <td>1970.999676</td>\n",
       "      <td>84.464787</td>\n",
       "      <td>98077.951845</td>\n",
       "      <td>47.560093</td>\n",
       "      <td>-122.213982</td>\n",
       "      <td>1986.620318</td>\n",
       "      <td>12758.283512</td>\n",
       "    </tr>\n",
       "    <tr>\n",
       "      <th>std</th>\n",
       "      <td>2.876736e+09</td>\n",
       "      <td>3.671337e+05</td>\n",
       "      <td>0.926299</td>\n",
       "      <td>0.768984</td>\n",
       "      <td>918.106125</td>\n",
       "      <td>4.141264e+04</td>\n",
       "      <td>0.539683</td>\n",
       "      <td>0.086549</td>\n",
       "      <td>0.766390</td>\n",
       "      <td>0.650546</td>\n",
       "      <td>1.173200</td>\n",
       "      <td>827.759761</td>\n",
       "      <td>442.667800</td>\n",
       "      <td>29.375234</td>\n",
       "      <td>401.821438</td>\n",
       "      <td>53.513072</td>\n",
       "      <td>0.138552</td>\n",
       "      <td>0.140724</td>\n",
       "      <td>685.230472</td>\n",
       "      <td>27274.441950</td>\n",
       "    </tr>\n",
       "    <tr>\n",
       "      <th>min</th>\n",
       "      <td>1.000102e+06</td>\n",
       "      <td>7.800000e+04</td>\n",
       "      <td>1.000000</td>\n",
       "      <td>0.500000</td>\n",
       "      <td>370.000000</td>\n",
       "      <td>5.200000e+02</td>\n",
       "      <td>1.000000</td>\n",
       "      <td>0.000000</td>\n",
       "      <td>0.000000</td>\n",
       "      <td>1.000000</td>\n",
       "      <td>3.000000</td>\n",
       "      <td>370.000000</td>\n",
       "      <td>0.000000</td>\n",
       "      <td>1900.000000</td>\n",
       "      <td>0.000000</td>\n",
       "      <td>98001.000000</td>\n",
       "      <td>47.155900</td>\n",
       "      <td>-122.519000</td>\n",
       "      <td>399.000000</td>\n",
       "      <td>651.000000</td>\n",
       "    </tr>\n",
       "    <tr>\n",
       "      <th>25%</th>\n",
       "      <td>2.123049e+09</td>\n",
       "      <td>3.220000e+05</td>\n",
       "      <td>3.000000</td>\n",
       "      <td>1.750000</td>\n",
       "      <td>1430.000000</td>\n",
       "      <td>5.040000e+03</td>\n",
       "      <td>1.000000</td>\n",
       "      <td>0.000000</td>\n",
       "      <td>0.000000</td>\n",
       "      <td>3.000000</td>\n",
       "      <td>7.000000</td>\n",
       "      <td>1190.000000</td>\n",
       "      <td>0.000000</td>\n",
       "      <td>1951.000000</td>\n",
       "      <td>0.000000</td>\n",
       "      <td>98033.000000</td>\n",
       "      <td>47.471100</td>\n",
       "      <td>-122.328000</td>\n",
       "      <td>1490.000000</td>\n",
       "      <td>5100.000000</td>\n",
       "    </tr>\n",
       "    <tr>\n",
       "      <th>50%</th>\n",
       "      <td>3.904930e+09</td>\n",
       "      <td>4.500000e+05</td>\n",
       "      <td>3.000000</td>\n",
       "      <td>2.250000</td>\n",
       "      <td>1910.000000</td>\n",
       "      <td>7.618000e+03</td>\n",
       "      <td>1.500000</td>\n",
       "      <td>0.000000</td>\n",
       "      <td>0.000000</td>\n",
       "      <td>3.000000</td>\n",
       "      <td>7.000000</td>\n",
       "      <td>1560.000000</td>\n",
       "      <td>0.000000</td>\n",
       "      <td>1975.000000</td>\n",
       "      <td>0.000000</td>\n",
       "      <td>98065.000000</td>\n",
       "      <td>47.571800</td>\n",
       "      <td>-122.231000</td>\n",
       "      <td>1840.000000</td>\n",
       "      <td>7620.000000</td>\n",
       "    </tr>\n",
       "    <tr>\n",
       "      <th>75%</th>\n",
       "      <td>7.308900e+09</td>\n",
       "      <td>6.450000e+05</td>\n",
       "      <td>4.000000</td>\n",
       "      <td>2.500000</td>\n",
       "      <td>2550.000000</td>\n",
       "      <td>1.068500e+04</td>\n",
       "      <td>2.000000</td>\n",
       "      <td>0.000000</td>\n",
       "      <td>0.000000</td>\n",
       "      <td>4.000000</td>\n",
       "      <td>8.000000</td>\n",
       "      <td>2210.000000</td>\n",
       "      <td>560.000000</td>\n",
       "      <td>1997.000000</td>\n",
       "      <td>0.000000</td>\n",
       "      <td>98118.000000</td>\n",
       "      <td>47.678000</td>\n",
       "      <td>-122.125000</td>\n",
       "      <td>2360.000000</td>\n",
       "      <td>10083.000000</td>\n",
       "    </tr>\n",
       "    <tr>\n",
       "      <th>max</th>\n",
       "      <td>9.900000e+09</td>\n",
       "      <td>7.700000e+06</td>\n",
       "      <td>33.000000</td>\n",
       "      <td>8.000000</td>\n",
       "      <td>13540.000000</td>\n",
       "      <td>1.651359e+06</td>\n",
       "      <td>3.500000</td>\n",
       "      <td>1.000000</td>\n",
       "      <td>4.000000</td>\n",
       "      <td>5.000000</td>\n",
       "      <td>13.000000</td>\n",
       "      <td>9410.000000</td>\n",
       "      <td>4820.000000</td>\n",
       "      <td>2015.000000</td>\n",
       "      <td>2015.000000</td>\n",
       "      <td>98199.000000</td>\n",
       "      <td>47.777600</td>\n",
       "      <td>-121.315000</td>\n",
       "      <td>6210.000000</td>\n",
       "      <td>871200.000000</td>\n",
       "    </tr>\n",
       "  </tbody>\n",
       "</table>\n",
       "</div>"
      ],
      "text/plain": [
       "                 id         price      bedrooms     bathrooms   sqft_living  \\\n",
       "count  2.159700e+04  2.159700e+04  21597.000000  21597.000000  21597.000000   \n",
       "mean   4.580474e+09  5.402029e+05      3.373200      2.115826   2080.321850   \n",
       "std    2.876736e+09  3.671337e+05      0.926299      0.768984    918.106125   \n",
       "min    1.000102e+06  7.800000e+04      1.000000      0.500000    370.000000   \n",
       "25%    2.123049e+09  3.220000e+05      3.000000      1.750000   1430.000000   \n",
       "50%    3.904930e+09  4.500000e+05      3.000000      2.250000   1910.000000   \n",
       "75%    7.308900e+09  6.450000e+05      4.000000      2.500000   2550.000000   \n",
       "max    9.900000e+09  7.700000e+06     33.000000      8.000000  13540.000000   \n",
       "\n",
       "           sqft_lot        floors    waterfront          view     condition  \\\n",
       "count  2.159700e+04  21597.000000  21597.000000  21597.000000  21597.000000   \n",
       "mean   1.509941e+04      1.494096      0.007547      0.234292      3.409825   \n",
       "std    4.141264e+04      0.539683      0.086549      0.766390      0.650546   \n",
       "min    5.200000e+02      1.000000      0.000000      0.000000      1.000000   \n",
       "25%    5.040000e+03      1.000000      0.000000      0.000000      3.000000   \n",
       "50%    7.618000e+03      1.500000      0.000000      0.000000      3.000000   \n",
       "75%    1.068500e+04      2.000000      0.000000      0.000000      4.000000   \n",
       "max    1.651359e+06      3.500000      1.000000      4.000000      5.000000   \n",
       "\n",
       "              grade    sqft_above  sqft_basement      yr_built  yr_renovated  \\\n",
       "count  21597.000000  21597.000000   21597.000000  21597.000000  21597.000000   \n",
       "mean       7.657915   1788.596842     291.725008   1970.999676     84.464787   \n",
       "std        1.173200    827.759761     442.667800     29.375234    401.821438   \n",
       "min        3.000000    370.000000       0.000000   1900.000000      0.000000   \n",
       "25%        7.000000   1190.000000       0.000000   1951.000000      0.000000   \n",
       "50%        7.000000   1560.000000       0.000000   1975.000000      0.000000   \n",
       "75%        8.000000   2210.000000     560.000000   1997.000000      0.000000   \n",
       "max       13.000000   9410.000000    4820.000000   2015.000000   2015.000000   \n",
       "\n",
       "            zipcode           lat          long  sqft_living15     sqft_lot15  \n",
       "count  21597.000000  21597.000000  21597.000000   21597.000000   21597.000000  \n",
       "mean   98077.951845     47.560093   -122.213982    1986.620318   12758.283512  \n",
       "std       53.513072      0.138552      0.140724     685.230472   27274.441950  \n",
       "min    98001.000000     47.155900   -122.519000     399.000000     651.000000  \n",
       "25%    98033.000000     47.471100   -122.328000    1490.000000    5100.000000  \n",
       "50%    98065.000000     47.571800   -122.231000    1840.000000    7620.000000  \n",
       "75%    98118.000000     47.678000   -122.125000    2360.000000   10083.000000  \n",
       "max    98199.000000     47.777600   -121.315000    6210.000000  871200.000000  "
      ]
     },
     "execution_count": 155,
     "metadata": {},
     "output_type": "execute_result"
    }
   ],
   "source": [
    "data.describe()"
   ]
  },
  {
   "cell_type": "markdown",
   "metadata": {},
   "source": [
    "Here, we have mean, count, standard deviations, quartiles and extreme values for each value.\n",
    "Let's have a look at shape of dataset."
   ]
  },
  {
   "cell_type": "code",
   "execution_count": 156,
   "metadata": {},
   "outputs": [
    {
     "data": {
      "text/plain": [
       "(21613, 21)"
      ]
     },
     "execution_count": 156,
     "metadata": {},
     "output_type": "execute_result"
    }
   ],
   "source": [
    "data.shape"
   ]
  },
  {
   "cell_type": "markdown",
   "metadata": {},
   "source": [
    "So far, we understood about variables and structure of data.\n",
    "\n",
    "Moving forward for making data qualitatively ready from trainig models."
   ]
  },
  {
   "cell_type": "markdown",
   "metadata": {},
   "source": [
    "### 2. Data Wrangling"
   ]
  },
  {
   "cell_type": "code",
   "execution_count": 157,
   "metadata": {},
   "outputs": [
    {
     "data": {
      "text/html": [
       "<div>\n",
       "<style scoped>\n",
       "    .dataframe tbody tr th:only-of-type {\n",
       "        vertical-align: middle;\n",
       "    }\n",
       "\n",
       "    .dataframe tbody tr th {\n",
       "        vertical-align: top;\n",
       "    }\n",
       "\n",
       "    .dataframe thead th {\n",
       "        text-align: right;\n",
       "    }\n",
       "</style>\n",
       "<table border=\"1\" class=\"dataframe\">\n",
       "  <thead>\n",
       "    <tr style=\"text-align: right;\">\n",
       "      <th></th>\n",
       "      <th>date</th>\n",
       "      <th>price</th>\n",
       "      <th>bedrooms</th>\n",
       "      <th>bathrooms</th>\n",
       "      <th>sqft_living</th>\n",
       "      <th>sqft_lot</th>\n",
       "      <th>floors</th>\n",
       "      <th>waterfront</th>\n",
       "      <th>view</th>\n",
       "      <th>condition</th>\n",
       "      <th>grade</th>\n",
       "      <th>sqft_above</th>\n",
       "      <th>sqft_basement</th>\n",
       "      <th>yr_built</th>\n",
       "      <th>yr_renovated</th>\n",
       "      <th>zipcode</th>\n",
       "      <th>lat</th>\n",
       "      <th>long</th>\n",
       "      <th>sqft_living15</th>\n",
       "      <th>sqft_lot15</th>\n",
       "    </tr>\n",
       "  </thead>\n",
       "  <tbody>\n",
       "    <tr>\n",
       "      <th>0</th>\n",
       "      <td>2014-10-13</td>\n",
       "      <td>221900.0</td>\n",
       "      <td>3.0</td>\n",
       "      <td>1.00</td>\n",
       "      <td>1180.0</td>\n",
       "      <td>5650.0</td>\n",
       "      <td>1.0</td>\n",
       "      <td>0.0</td>\n",
       "      <td>0.0</td>\n",
       "      <td>3.0</td>\n",
       "      <td>7.0</td>\n",
       "      <td>1180.0</td>\n",
       "      <td>0.0</td>\n",
       "      <td>1955.0</td>\n",
       "      <td>0.0</td>\n",
       "      <td>98178.0</td>\n",
       "      <td>47.5112</td>\n",
       "      <td>-122.257</td>\n",
       "      <td>1340.0</td>\n",
       "      <td>5650.0</td>\n",
       "    </tr>\n",
       "    <tr>\n",
       "      <th>1</th>\n",
       "      <td>2014-12-09</td>\n",
       "      <td>538000.0</td>\n",
       "      <td>3.0</td>\n",
       "      <td>2.25</td>\n",
       "      <td>2570.0</td>\n",
       "      <td>7242.0</td>\n",
       "      <td>2.0</td>\n",
       "      <td>0.0</td>\n",
       "      <td>0.0</td>\n",
       "      <td>3.0</td>\n",
       "      <td>7.0</td>\n",
       "      <td>2170.0</td>\n",
       "      <td>400.0</td>\n",
       "      <td>1951.0</td>\n",
       "      <td>1991.0</td>\n",
       "      <td>98125.0</td>\n",
       "      <td>47.7210</td>\n",
       "      <td>-122.319</td>\n",
       "      <td>1690.0</td>\n",
       "      <td>7639.0</td>\n",
       "    </tr>\n",
       "    <tr>\n",
       "      <th>2</th>\n",
       "      <td>2015-02-25</td>\n",
       "      <td>180000.0</td>\n",
       "      <td>2.0</td>\n",
       "      <td>1.00</td>\n",
       "      <td>770.0</td>\n",
       "      <td>10000.0</td>\n",
       "      <td>1.0</td>\n",
       "      <td>0.0</td>\n",
       "      <td>0.0</td>\n",
       "      <td>3.0</td>\n",
       "      <td>6.0</td>\n",
       "      <td>770.0</td>\n",
       "      <td>0.0</td>\n",
       "      <td>1933.0</td>\n",
       "      <td>0.0</td>\n",
       "      <td>98028.0</td>\n",
       "      <td>47.7379</td>\n",
       "      <td>-122.233</td>\n",
       "      <td>2720.0</td>\n",
       "      <td>8062.0</td>\n",
       "    </tr>\n",
       "    <tr>\n",
       "      <th>3</th>\n",
       "      <td>2014-12-09</td>\n",
       "      <td>604000.0</td>\n",
       "      <td>4.0</td>\n",
       "      <td>3.00</td>\n",
       "      <td>1960.0</td>\n",
       "      <td>5000.0</td>\n",
       "      <td>1.0</td>\n",
       "      <td>0.0</td>\n",
       "      <td>0.0</td>\n",
       "      <td>5.0</td>\n",
       "      <td>7.0</td>\n",
       "      <td>1050.0</td>\n",
       "      <td>910.0</td>\n",
       "      <td>1965.0</td>\n",
       "      <td>0.0</td>\n",
       "      <td>98136.0</td>\n",
       "      <td>47.5208</td>\n",
       "      <td>-122.393</td>\n",
       "      <td>1360.0</td>\n",
       "      <td>5000.0</td>\n",
       "    </tr>\n",
       "    <tr>\n",
       "      <th>4</th>\n",
       "      <td>2015-02-18</td>\n",
       "      <td>510000.0</td>\n",
       "      <td>3.0</td>\n",
       "      <td>2.00</td>\n",
       "      <td>1680.0</td>\n",
       "      <td>8080.0</td>\n",
       "      <td>1.0</td>\n",
       "      <td>0.0</td>\n",
       "      <td>0.0</td>\n",
       "      <td>3.0</td>\n",
       "      <td>8.0</td>\n",
       "      <td>1680.0</td>\n",
       "      <td>0.0</td>\n",
       "      <td>1987.0</td>\n",
       "      <td>0.0</td>\n",
       "      <td>98074.0</td>\n",
       "      <td>47.6168</td>\n",
       "      <td>-122.045</td>\n",
       "      <td>1800.0</td>\n",
       "      <td>7503.0</td>\n",
       "    </tr>\n",
       "  </tbody>\n",
       "</table>\n",
       "</div>"
      ],
      "text/plain": [
       "        date     price  bedrooms  bathrooms  sqft_living  sqft_lot  floors  \\\n",
       "0 2014-10-13  221900.0       3.0       1.00       1180.0    5650.0     1.0   \n",
       "1 2014-12-09  538000.0       3.0       2.25       2570.0    7242.0     2.0   \n",
       "2 2015-02-25  180000.0       2.0       1.00        770.0   10000.0     1.0   \n",
       "3 2014-12-09  604000.0       4.0       3.00       1960.0    5000.0     1.0   \n",
       "4 2015-02-18  510000.0       3.0       2.00       1680.0    8080.0     1.0   \n",
       "\n",
       "   waterfront  view  condition  grade  sqft_above  sqft_basement  yr_built  \\\n",
       "0         0.0   0.0        3.0    7.0      1180.0            0.0    1955.0   \n",
       "1         0.0   0.0        3.0    7.0      2170.0          400.0    1951.0   \n",
       "2         0.0   0.0        3.0    6.0       770.0            0.0    1933.0   \n",
       "3         0.0   0.0        5.0    7.0      1050.0          910.0    1965.0   \n",
       "4         0.0   0.0        3.0    8.0      1680.0            0.0    1987.0   \n",
       "\n",
       "   yr_renovated  zipcode      lat     long  sqft_living15  sqft_lot15  \n",
       "0           0.0  98178.0  47.5112 -122.257         1340.0      5650.0  \n",
       "1        1991.0  98125.0  47.7210 -122.319         1690.0      7639.0  \n",
       "2           0.0  98028.0  47.7379 -122.233         2720.0      8062.0  \n",
       "3           0.0  98136.0  47.5208 -122.393         1360.0      5000.0  \n",
       "4           0.0  98074.0  47.6168 -122.045         1800.0      7503.0  "
      ]
     },
     "execution_count": 157,
     "metadata": {},
     "output_type": "execute_result"
    }
   ],
   "source": [
    "data=data.drop(['id'], axis=1)\n",
    "data['date']=pd.to_datetime(data['date'])\n",
    "data.head()"
   ]
  },
  {
   "cell_type": "code",
   "execution_count": 158,
   "metadata": {},
   "outputs": [
    {
     "data": {
      "text/html": [
       "<div>\n",
       "<style scoped>\n",
       "    .dataframe tbody tr th:only-of-type {\n",
       "        vertical-align: middle;\n",
       "    }\n",
       "\n",
       "    .dataframe tbody tr th {\n",
       "        vertical-align: top;\n",
       "    }\n",
       "\n",
       "    .dataframe thead th {\n",
       "        text-align: right;\n",
       "    }\n",
       "</style>\n",
       "<table border=\"1\" class=\"dataframe\">\n",
       "  <thead>\n",
       "    <tr style=\"text-align: right;\">\n",
       "      <th></th>\n",
       "      <th>date</th>\n",
       "      <th>price</th>\n",
       "      <th>bedrooms</th>\n",
       "      <th>bathrooms</th>\n",
       "      <th>sqft_living</th>\n",
       "      <th>sqft_lot</th>\n",
       "      <th>floors</th>\n",
       "      <th>waterfront</th>\n",
       "      <th>view</th>\n",
       "      <th>condition</th>\n",
       "      <th>grade</th>\n",
       "      <th>sqft_above</th>\n",
       "      <th>sqft_basement</th>\n",
       "      <th>yr_built</th>\n",
       "      <th>yr_renovated</th>\n",
       "      <th>zipcode</th>\n",
       "      <th>lat</th>\n",
       "      <th>long</th>\n",
       "      <th>sqft_living15</th>\n",
       "      <th>sqft_lot15</th>\n",
       "    </tr>\n",
       "  </thead>\n",
       "  <tbody>\n",
       "    <tr>\n",
       "      <th>0</th>\n",
       "      <td>2014-10-13</td>\n",
       "      <td>221900.0</td>\n",
       "      <td>3.0</td>\n",
       "      <td>1.00</td>\n",
       "      <td>1180.0</td>\n",
       "      <td>5650.0</td>\n",
       "      <td>1.0</td>\n",
       "      <td>0.0</td>\n",
       "      <td>0.0</td>\n",
       "      <td>3.0</td>\n",
       "      <td>7.0</td>\n",
       "      <td>1180.0</td>\n",
       "      <td>0.0</td>\n",
       "      <td>1955.0</td>\n",
       "      <td>0.0</td>\n",
       "      <td>98178.0</td>\n",
       "      <td>47.5112</td>\n",
       "      <td>-122.257</td>\n",
       "      <td>1340.0</td>\n",
       "      <td>5650.0</td>\n",
       "    </tr>\n",
       "    <tr>\n",
       "      <th>1</th>\n",
       "      <td>2014-12-09</td>\n",
       "      <td>538000.0</td>\n",
       "      <td>3.0</td>\n",
       "      <td>2.25</td>\n",
       "      <td>2570.0</td>\n",
       "      <td>7242.0</td>\n",
       "      <td>2.0</td>\n",
       "      <td>0.0</td>\n",
       "      <td>0.0</td>\n",
       "      <td>3.0</td>\n",
       "      <td>7.0</td>\n",
       "      <td>2170.0</td>\n",
       "      <td>400.0</td>\n",
       "      <td>1951.0</td>\n",
       "      <td>1991.0</td>\n",
       "      <td>98125.0</td>\n",
       "      <td>47.7210</td>\n",
       "      <td>-122.319</td>\n",
       "      <td>1690.0</td>\n",
       "      <td>7639.0</td>\n",
       "    </tr>\n",
       "    <tr>\n",
       "      <th>2</th>\n",
       "      <td>2015-02-25</td>\n",
       "      <td>180000.0</td>\n",
       "      <td>2.0</td>\n",
       "      <td>1.00</td>\n",
       "      <td>770.0</td>\n",
       "      <td>10000.0</td>\n",
       "      <td>1.0</td>\n",
       "      <td>0.0</td>\n",
       "      <td>0.0</td>\n",
       "      <td>3.0</td>\n",
       "      <td>6.0</td>\n",
       "      <td>770.0</td>\n",
       "      <td>0.0</td>\n",
       "      <td>1933.0</td>\n",
       "      <td>0.0</td>\n",
       "      <td>98028.0</td>\n",
       "      <td>47.7379</td>\n",
       "      <td>-122.233</td>\n",
       "      <td>2720.0</td>\n",
       "      <td>8062.0</td>\n",
       "    </tr>\n",
       "    <tr>\n",
       "      <th>3</th>\n",
       "      <td>2014-12-09</td>\n",
       "      <td>604000.0</td>\n",
       "      <td>4.0</td>\n",
       "      <td>3.00</td>\n",
       "      <td>1960.0</td>\n",
       "      <td>5000.0</td>\n",
       "      <td>1.0</td>\n",
       "      <td>0.0</td>\n",
       "      <td>0.0</td>\n",
       "      <td>5.0</td>\n",
       "      <td>7.0</td>\n",
       "      <td>1050.0</td>\n",
       "      <td>910.0</td>\n",
       "      <td>1965.0</td>\n",
       "      <td>0.0</td>\n",
       "      <td>98136.0</td>\n",
       "      <td>47.5208</td>\n",
       "      <td>-122.393</td>\n",
       "      <td>1360.0</td>\n",
       "      <td>5000.0</td>\n",
       "    </tr>\n",
       "    <tr>\n",
       "      <th>4</th>\n",
       "      <td>2015-02-18</td>\n",
       "      <td>510000.0</td>\n",
       "      <td>3.0</td>\n",
       "      <td>2.00</td>\n",
       "      <td>1680.0</td>\n",
       "      <td>8080.0</td>\n",
       "      <td>1.0</td>\n",
       "      <td>0.0</td>\n",
       "      <td>0.0</td>\n",
       "      <td>3.0</td>\n",
       "      <td>8.0</td>\n",
       "      <td>1680.0</td>\n",
       "      <td>0.0</td>\n",
       "      <td>1987.0</td>\n",
       "      <td>0.0</td>\n",
       "      <td>98074.0</td>\n",
       "      <td>47.6168</td>\n",
       "      <td>-122.045</td>\n",
       "      <td>1800.0</td>\n",
       "      <td>7503.0</td>\n",
       "    </tr>\n",
       "  </tbody>\n",
       "</table>\n",
       "</div>"
      ],
      "text/plain": [
       "        date     price  bedrooms  bathrooms  sqft_living  sqft_lot  floors  \\\n",
       "0 2014-10-13  221900.0       3.0       1.00       1180.0    5650.0     1.0   \n",
       "1 2014-12-09  538000.0       3.0       2.25       2570.0    7242.0     2.0   \n",
       "2 2015-02-25  180000.0       2.0       1.00        770.0   10000.0     1.0   \n",
       "3 2014-12-09  604000.0       4.0       3.00       1960.0    5000.0     1.0   \n",
       "4 2015-02-18  510000.0       3.0       2.00       1680.0    8080.0     1.0   \n",
       "\n",
       "   waterfront  view  condition  grade  sqft_above  sqft_basement  yr_built  \\\n",
       "0         0.0   0.0        3.0    7.0      1180.0            0.0    1955.0   \n",
       "1         0.0   0.0        3.0    7.0      2170.0          400.0    1951.0   \n",
       "2         0.0   0.0        3.0    6.0       770.0            0.0    1933.0   \n",
       "3         0.0   0.0        5.0    7.0      1050.0          910.0    1965.0   \n",
       "4         0.0   0.0        3.0    8.0      1680.0            0.0    1987.0   \n",
       "\n",
       "   yr_renovated  zipcode      lat     long  sqft_living15  sqft_lot15  \n",
       "0           0.0  98178.0  47.5112 -122.257         1340.0      5650.0  \n",
       "1        1991.0  98125.0  47.7210 -122.319         1690.0      7639.0  \n",
       "2           0.0  98028.0  47.7379 -122.233         2720.0      8062.0  \n",
       "3           0.0  98136.0  47.5208 -122.393         1360.0      5000.0  \n",
       "4           0.0  98074.0  47.6168 -122.045         1800.0      7503.0  "
      ]
     },
     "execution_count": 158,
     "metadata": {},
     "output_type": "execute_result"
    }
   ],
   "source": [
    "data.head()"
   ]
  },
  {
   "cell_type": "code",
   "execution_count": 159,
   "metadata": {},
   "outputs": [
    {
     "data": {
      "text/plain": [
       "date             16\n",
       "price            16\n",
       "bedrooms         16\n",
       "bathrooms        16\n",
       "sqft_living      16\n",
       "sqft_lot         16\n",
       "floors           16\n",
       "waterfront       16\n",
       "view             16\n",
       "condition        16\n",
       "grade            16\n",
       "sqft_above       16\n",
       "sqft_basement    16\n",
       "yr_built         16\n",
       "yr_renovated     16\n",
       "zipcode          16\n",
       "lat              16\n",
       "long             16\n",
       "sqft_living15    16\n",
       "sqft_lot15       16\n",
       "dtype: int64"
      ]
     },
     "execution_count": 159,
     "metadata": {},
     "output_type": "execute_result"
    }
   ],
   "source": [
    "data.isnull().sum()"
   ]
  },
  {
   "cell_type": "code",
   "execution_count": null,
   "metadata": {},
   "outputs": [],
   "source": [
    "\n",
    "        "
   ]
  },
  {
   "cell_type": "markdown",
   "metadata": {},
   "source": [
    "Here, we can either fill missing values with mean of available values in the respective variable, or we can remove them from the data frame if we number of missing values is sugnificantly small as compared to the number of observations.\n",
    "\n",
    "We chose to remove the missing values from the dataset."
   ]
  },
  {
   "cell_type": "code",
   "execution_count": 160,
   "metadata": {},
   "outputs": [
    {
     "data": {
      "text/plain": [
       "date             0\n",
       "price            0\n",
       "bedrooms         0\n",
       "bathrooms        0\n",
       "sqft_living      0\n",
       "sqft_lot         0\n",
       "floors           0\n",
       "waterfront       0\n",
       "view             0\n",
       "condition        0\n",
       "grade            0\n",
       "sqft_above       0\n",
       "sqft_basement    0\n",
       "yr_built         0\n",
       "yr_renovated     0\n",
       "zipcode          0\n",
       "lat              0\n",
       "long             0\n",
       "sqft_living15    0\n",
       "sqft_lot15       0\n",
       "dtype: int64"
      ]
     },
     "execution_count": 160,
     "metadata": {},
     "output_type": "execute_result"
    }
   ],
   "source": [
    "data=data.dropna()\n",
    "data.isnull().sum()"
   ]
  },
  {
   "cell_type": "code",
   "execution_count": 161,
   "metadata": {},
   "outputs": [
    {
     "data": {
      "text/plain": [
       "(21597, 20)"
      ]
     },
     "execution_count": 161,
     "metadata": {},
     "output_type": "execute_result"
    }
   ],
   "source": [
    "data.shape"
   ]
  },
  {
   "cell_type": "markdown",
   "metadata": {},
   "source": [
    "16 rows have been dropped out for making the data clean and qualitative."
   ]
  },
  {
   "cell_type": "markdown",
   "metadata": {},
   "source": [
    "### 3. Exploratory data analysis"
   ]
  },
  {
   "cell_type": "markdown",
   "metadata": {},
   "source": [
    "####  Using the function <code>boxplot</code> in the seaborn library  to  determine whether houses with a waterfront view or without a waterfront view have more price outliers .\n"
   ]
  },
  {
   "cell_type": "code",
   "execution_count": 162,
   "metadata": {},
   "outputs": [
    {
     "name": "stdout",
     "output_type": "stream",
     "text": [
      "1.0    10673\n",
      "2.0     8235\n",
      "1.5     1910\n",
      "3.0      611\n",
      "2.5      161\n",
      "3.5        7\n",
      "Name: floors, dtype: int64\n"
     ]
    }
   ],
   "source": [
    "floors=data['floors'].value_counts()\n",
    "print(floors)"
   ]
  },
  {
   "cell_type": "code",
   "execution_count": 163,
   "metadata": {},
   "outputs": [
    {
     "name": "stdout",
     "output_type": "stream",
     "text": [
      "0.0    21434\n",
      "1.0      163\n",
      "Name: waterfront, dtype: int64\n"
     ]
    }
   ],
   "source": [
    "waterfront=data['waterfront'].value_counts()\n",
    "print(waterfront)"
   ]
  },
  {
   "cell_type": "code",
   "execution_count": 164,
   "metadata": {},
   "outputs": [
    {
     "name": "stdout",
     "output_type": "stream",
     "text": [
      "0.0    19475\n",
      "2.0      961\n",
      "3.0      510\n",
      "1.0      332\n",
      "4.0      319\n",
      "Name: view, dtype: int64\n"
     ]
    }
   ],
   "source": [
    "view=data['view'].value_counts()\n",
    "print(view)"
   ]
  },
  {
   "cell_type": "code",
   "execution_count": 165,
   "metadata": {},
   "outputs": [
    {
     "data": {
      "text/plain": [
       "<matplotlib.axes._subplots.AxesSubplot at 0x27836379a48>"
      ]
     },
     "execution_count": 165,
     "metadata": {},
     "output_type": "execute_result"
    },
    {
     "data": {
      "image/png": "[encoded data removed]",
      "text/plain": [
       "<Figure size 432x288 with 1 Axes>"
      ]
     },
     "metadata": {
      "needs_background": "light"
     },
     "output_type": "display_data"
    }
   ],
   "source": [
    "sns.boxplot(data['floors'],data['price'])"
   ]
  },
  {
   "cell_type": "code",
   "execution_count": 166,
   "metadata": {},
   "outputs": [
    {
     "data": {
      "text/plain": [
       "<matplotlib.axes._subplots.AxesSubplot at 0x2783629c408>"
      ]
     },
     "execution_count": 166,
     "metadata": {},
     "output_type": "execute_result"
    },
    {
     "data": {
      "image/png": "[encoded data removed]",
      "text/plain": [
       "<Figure size 432x288 with 1 Axes>"
      ]
     },
     "metadata": {
      "needs_background": "light"
     },
     "output_type": "display_data"
    }
   ],
   "source": [
    "sns.boxplot(data['waterfront'],data['price'])"
   ]
  },
  {
   "cell_type": "code",
   "execution_count": 167,
   "metadata": {},
   "outputs": [
    {
     "data": {
      "text/plain": [
       "<matplotlib.axes._subplots.AxesSubplot at 0x27839c5c2c8>"
      ]
     },
     "execution_count": 167,
     "metadata": {},
     "output_type": "execute_result"
    },
    {
     "data": {
      "image/png": "[encoded data removed]",
      "text/plain": [
       "<Figure size 432x288 with 1 Axes>"
      ]
     },
     "metadata": {
      "needs_background": "light"
     },
     "output_type": "display_data"
    }
   ],
   "source": [
    "sns.boxplot(data['view'], data['price'])"
   ]
  },
  {
   "cell_type": "code",
   "execution_count": 168,
   "metadata": {},
   "outputs": [
    {
     "data": {
      "text/plain": [
       "<matplotlib.axes._subplots.AxesSubplot at 0x2783aa72dc8>"
      ]
     },
     "execution_count": 168,
     "metadata": {},
     "output_type": "execute_result"
    },
    {
     "data": {
      "image/png": "[encoded data removed]",
      "text/plain": [
       "<Figure size 432x288 with 1 Axes>"
      ]
     },
     "metadata": {
      "needs_background": "light"
     },
     "output_type": "display_data"
    }
   ],
   "source": [
    "sns.boxplot(data['bathrooms'])"
   ]
  },
  {
   "cell_type": "code",
   "execution_count": 169,
   "metadata": {},
   "outputs": [
    {
     "data": {
      "text/plain": [
       "<matplotlib.axes._subplots.AxesSubplot at 0x278372d79c8>"
      ]
     },
     "execution_count": 169,
     "metadata": {},
     "output_type": "execute_result"
    },
    {
     "data": {
      "image/png": "[encoded data removed]",
      "text/plain": [
       "<Figure size 432x288 with 1 Axes>"
      ]
     },
     "metadata": {
      "needs_background": "light"
     },
     "output_type": "display_data"
    }
   ],
   "source": [
    "sns.boxplot(data['bedrooms'])"
   ]
  },
  {
   "cell_type": "markdown",
   "metadata": {},
   "source": [
    "#### Using the function <code> regplot</code>  in the seaborn library  to  determine if the feature <code>sqft_above</code> is negatively or positively correlated with price."
   ]
  },
  {
   "cell_type": "code",
   "execution_count": 170,
   "metadata": {},
   "outputs": [
    {
     "data": {
      "text/plain": [
       "<matplotlib.axes._subplots.AxesSubplot at 0x27837344948>"
      ]
     },
     "execution_count": 170,
     "metadata": {},
     "output_type": "execute_result"
    },
    {
     "data": {
      "image/png": "[encoded data removed]",
      "text/plain": [
       "<Figure size 432x288 with 1 Axes>"
      ]
     },
     "metadata": {
      "needs_background": "light"
     },
     "output_type": "display_data"
    }
   ],
   "source": [
    "sns.regplot(data['sqft_above'], data['price'])"
   ]
  },
  {
   "cell_type": "markdown",
   "metadata": {},
   "source": [
    "A positive correlation is being observed."
   ]
  },
  {
   "cell_type": "markdown",
   "metadata": {},
   "source": [
    "We can use the Pandas method **corr()** to find the correlation with price."
   ]
  },
  {
   "cell_type": "code",
   "execution_count": 171,
   "metadata": {},
   "outputs": [
    {
     "data": {
      "text/html": [
       "<div>\n",
       "<style scoped>\n",
       "    .dataframe tbody tr th:only-of-type {\n",
       "        vertical-align: middle;\n",
       "    }\n",
       "\n",
       "    .dataframe tbody tr th {\n",
       "        vertical-align: top;\n",
       "    }\n",
       "\n",
       "    .dataframe thead th {\n",
       "        text-align: right;\n",
       "    }\n",
       "</style>\n",
       "<table border=\"1\" class=\"dataframe\">\n",
       "  <thead>\n",
       "    <tr style=\"text-align: right;\">\n",
       "      <th></th>\n",
       "      <th>price</th>\n",
       "      <th>bedrooms</th>\n",
       "      <th>bathrooms</th>\n",
       "      <th>sqft_living</th>\n",
       "      <th>sqft_lot</th>\n",
       "      <th>floors</th>\n",
       "      <th>waterfront</th>\n",
       "      <th>view</th>\n",
       "      <th>condition</th>\n",
       "      <th>grade</th>\n",
       "      <th>sqft_above</th>\n",
       "      <th>sqft_basement</th>\n",
       "      <th>yr_built</th>\n",
       "      <th>yr_renovated</th>\n",
       "      <th>zipcode</th>\n",
       "      <th>lat</th>\n",
       "      <th>long</th>\n",
       "      <th>sqft_living15</th>\n",
       "      <th>sqft_lot15</th>\n",
       "    </tr>\n",
       "  </thead>\n",
       "  <tbody>\n",
       "    <tr>\n",
       "      <th>price</th>\n",
       "      <td>1.000000</td>\n",
       "      <td>0.308794</td>\n",
       "      <td>0.525905</td>\n",
       "      <td>0.701909</td>\n",
       "      <td>0.089882</td>\n",
       "      <td>0.256814</td>\n",
       "      <td>0.266437</td>\n",
       "      <td>0.397318</td>\n",
       "      <td>0.036025</td>\n",
       "      <td>0.667922</td>\n",
       "      <td>0.605371</td>\n",
       "      <td>0.323776</td>\n",
       "      <td>0.053984</td>\n",
       "      <td>0.126415</td>\n",
       "      <td>-0.053437</td>\n",
       "      <td>0.306777</td>\n",
       "      <td>0.022092</td>\n",
       "      <td>0.585247</td>\n",
       "      <td>0.082837</td>\n",
       "    </tr>\n",
       "    <tr>\n",
       "      <th>bedrooms</th>\n",
       "      <td>0.308794</td>\n",
       "      <td>1.000000</td>\n",
       "      <td>0.514508</td>\n",
       "      <td>0.578212</td>\n",
       "      <td>0.032471</td>\n",
       "      <td>0.177944</td>\n",
       "      <td>-0.006834</td>\n",
       "      <td>0.080008</td>\n",
       "      <td>0.026496</td>\n",
       "      <td>0.356563</td>\n",
       "      <td>0.479386</td>\n",
       "      <td>0.302808</td>\n",
       "      <td>0.155670</td>\n",
       "      <td>0.018389</td>\n",
       "      <td>-0.154092</td>\n",
       "      <td>-0.009951</td>\n",
       "      <td>0.132054</td>\n",
       "      <td>0.393406</td>\n",
       "      <td>0.030690</td>\n",
       "    </tr>\n",
       "    <tr>\n",
       "      <th>bathrooms</th>\n",
       "      <td>0.525905</td>\n",
       "      <td>0.514508</td>\n",
       "      <td>1.000000</td>\n",
       "      <td>0.755758</td>\n",
       "      <td>0.088373</td>\n",
       "      <td>0.502582</td>\n",
       "      <td>0.063744</td>\n",
       "      <td>0.188386</td>\n",
       "      <td>-0.126479</td>\n",
       "      <td>0.665838</td>\n",
       "      <td>0.686668</td>\n",
       "      <td>0.283440</td>\n",
       "      <td>0.507173</td>\n",
       "      <td>0.050544</td>\n",
       "      <td>-0.204786</td>\n",
       "      <td>0.024280</td>\n",
       "      <td>0.224903</td>\n",
       "      <td>0.569884</td>\n",
       "      <td>0.088303</td>\n",
       "    </tr>\n",
       "    <tr>\n",
       "      <th>sqft_living</th>\n",
       "      <td>0.701909</td>\n",
       "      <td>0.578212</td>\n",
       "      <td>0.755758</td>\n",
       "      <td>1.000000</td>\n",
       "      <td>0.173453</td>\n",
       "      <td>0.353953</td>\n",
       "      <td>0.103854</td>\n",
       "      <td>0.284709</td>\n",
       "      <td>-0.059445</td>\n",
       "      <td>0.762779</td>\n",
       "      <td>0.876448</td>\n",
       "      <td>0.435130</td>\n",
       "      <td>0.318152</td>\n",
       "      <td>0.055308</td>\n",
       "      <td>-0.199802</td>\n",
       "      <td>0.052155</td>\n",
       "      <td>0.241214</td>\n",
       "      <td>0.756402</td>\n",
       "      <td>0.184342</td>\n",
       "    </tr>\n",
       "    <tr>\n",
       "      <th>sqft_lot</th>\n",
       "      <td>0.089882</td>\n",
       "      <td>0.032471</td>\n",
       "      <td>0.088373</td>\n",
       "      <td>0.173453</td>\n",
       "      <td>1.000000</td>\n",
       "      <td>-0.004814</td>\n",
       "      <td>0.021632</td>\n",
       "      <td>0.074900</td>\n",
       "      <td>-0.008830</td>\n",
       "      <td>0.114731</td>\n",
       "      <td>0.184139</td>\n",
       "      <td>0.015418</td>\n",
       "      <td>0.052946</td>\n",
       "      <td>0.007686</td>\n",
       "      <td>-0.129586</td>\n",
       "      <td>-0.085514</td>\n",
       "      <td>0.230227</td>\n",
       "      <td>0.144763</td>\n",
       "      <td>0.718204</td>\n",
       "    </tr>\n",
       "    <tr>\n",
       "      <th>floors</th>\n",
       "      <td>0.256814</td>\n",
       "      <td>0.177944</td>\n",
       "      <td>0.502582</td>\n",
       "      <td>0.353953</td>\n",
       "      <td>-0.004814</td>\n",
       "      <td>1.000000</td>\n",
       "      <td>0.023755</td>\n",
       "      <td>0.028814</td>\n",
       "      <td>-0.264075</td>\n",
       "      <td>0.458794</td>\n",
       "      <td>0.523989</td>\n",
       "      <td>-0.245715</td>\n",
       "      <td>0.489193</td>\n",
       "      <td>0.006427</td>\n",
       "      <td>-0.059541</td>\n",
       "      <td>0.049239</td>\n",
       "      <td>0.125943</td>\n",
       "      <td>0.280102</td>\n",
       "      <td>-0.010722</td>\n",
       "    </tr>\n",
       "    <tr>\n",
       "      <th>waterfront</th>\n",
       "      <td>0.266437</td>\n",
       "      <td>-0.006834</td>\n",
       "      <td>0.063744</td>\n",
       "      <td>0.103854</td>\n",
       "      <td>0.021632</td>\n",
       "      <td>0.023755</td>\n",
       "      <td>1.000000</td>\n",
       "      <td>0.401971</td>\n",
       "      <td>0.016611</td>\n",
       "      <td>0.082888</td>\n",
       "      <td>0.072109</td>\n",
       "      <td>0.080559</td>\n",
       "      <td>-0.026153</td>\n",
       "      <td>0.092873</td>\n",
       "      <td>0.030272</td>\n",
       "      <td>-0.014306</td>\n",
       "      <td>-0.041904</td>\n",
       "      <td>0.086507</td>\n",
       "      <td>0.030781</td>\n",
       "    </tr>\n",
       "    <tr>\n",
       "      <th>view</th>\n",
       "      <td>0.397318</td>\n",
       "      <td>0.080008</td>\n",
       "      <td>0.188386</td>\n",
       "      <td>0.284709</td>\n",
       "      <td>0.074900</td>\n",
       "      <td>0.028814</td>\n",
       "      <td>0.401971</td>\n",
       "      <td>1.000000</td>\n",
       "      <td>0.045999</td>\n",
       "      <td>0.251728</td>\n",
       "      <td>0.167609</td>\n",
       "      <td>0.277078</td>\n",
       "      <td>-0.053636</td>\n",
       "      <td>0.103951</td>\n",
       "      <td>0.084622</td>\n",
       "      <td>0.005871</td>\n",
       "      <td>-0.078107</td>\n",
       "      <td>0.280681</td>\n",
       "      <td>0.072904</td>\n",
       "    </tr>\n",
       "    <tr>\n",
       "      <th>condition</th>\n",
       "      <td>0.036025</td>\n",
       "      <td>0.026496</td>\n",
       "      <td>-0.126479</td>\n",
       "      <td>-0.059445</td>\n",
       "      <td>-0.008830</td>\n",
       "      <td>-0.264075</td>\n",
       "      <td>0.016611</td>\n",
       "      <td>0.045999</td>\n",
       "      <td>1.000000</td>\n",
       "      <td>-0.146896</td>\n",
       "      <td>-0.158904</td>\n",
       "      <td>0.173849</td>\n",
       "      <td>-0.361592</td>\n",
       "      <td>-0.060788</td>\n",
       "      <td>0.002888</td>\n",
       "      <td>-0.015102</td>\n",
       "      <td>-0.105877</td>\n",
       "      <td>-0.093072</td>\n",
       "      <td>-0.003126</td>\n",
       "    </tr>\n",
       "    <tr>\n",
       "      <th>grade</th>\n",
       "      <td>0.667922</td>\n",
       "      <td>0.356563</td>\n",
       "      <td>0.665838</td>\n",
       "      <td>0.762779</td>\n",
       "      <td>0.114731</td>\n",
       "      <td>0.458794</td>\n",
       "      <td>0.082888</td>\n",
       "      <td>0.251728</td>\n",
       "      <td>-0.146896</td>\n",
       "      <td>1.000000</td>\n",
       "      <td>0.756073</td>\n",
       "      <td>0.168220</td>\n",
       "      <td>0.447865</td>\n",
       "      <td>0.014261</td>\n",
       "      <td>-0.185771</td>\n",
       "      <td>0.113575</td>\n",
       "      <td>0.200341</td>\n",
       "      <td>0.713867</td>\n",
       "      <td>0.120981</td>\n",
       "    </tr>\n",
       "    <tr>\n",
       "      <th>sqft_above</th>\n",
       "      <td>0.605371</td>\n",
       "      <td>0.479386</td>\n",
       "      <td>0.686668</td>\n",
       "      <td>0.876448</td>\n",
       "      <td>0.184139</td>\n",
       "      <td>0.523989</td>\n",
       "      <td>0.072109</td>\n",
       "      <td>0.167609</td>\n",
       "      <td>-0.158904</td>\n",
       "      <td>0.756073</td>\n",
       "      <td>1.000000</td>\n",
       "      <td>-0.052156</td>\n",
       "      <td>0.424037</td>\n",
       "      <td>0.023251</td>\n",
       "      <td>-0.261570</td>\n",
       "      <td>-0.001199</td>\n",
       "      <td>0.344842</td>\n",
       "      <td>0.731767</td>\n",
       "      <td>0.195077</td>\n",
       "    </tr>\n",
       "    <tr>\n",
       "      <th>sqft_basement</th>\n",
       "      <td>0.323776</td>\n",
       "      <td>0.302808</td>\n",
       "      <td>0.283440</td>\n",
       "      <td>0.435130</td>\n",
       "      <td>0.015418</td>\n",
       "      <td>-0.245715</td>\n",
       "      <td>0.080559</td>\n",
       "      <td>0.277078</td>\n",
       "      <td>0.173849</td>\n",
       "      <td>0.168220</td>\n",
       "      <td>-0.052156</td>\n",
       "      <td>1.000000</td>\n",
       "      <td>-0.133064</td>\n",
       "      <td>0.071233</td>\n",
       "      <td>0.074725</td>\n",
       "      <td>0.110414</td>\n",
       "      <td>-0.144546</td>\n",
       "      <td>0.200443</td>\n",
       "      <td>0.017550</td>\n",
       "    </tr>\n",
       "    <tr>\n",
       "      <th>yr_built</th>\n",
       "      <td>0.053984</td>\n",
       "      <td>0.155670</td>\n",
       "      <td>0.507173</td>\n",
       "      <td>0.318152</td>\n",
       "      <td>0.052946</td>\n",
       "      <td>0.489193</td>\n",
       "      <td>-0.026153</td>\n",
       "      <td>-0.053636</td>\n",
       "      <td>-0.361592</td>\n",
       "      <td>0.447865</td>\n",
       "      <td>0.424037</td>\n",
       "      <td>-0.133064</td>\n",
       "      <td>1.000000</td>\n",
       "      <td>-0.224907</td>\n",
       "      <td>-0.347210</td>\n",
       "      <td>-0.148370</td>\n",
       "      <td>0.409993</td>\n",
       "      <td>0.326377</td>\n",
       "      <td>0.070777</td>\n",
       "    </tr>\n",
       "    <tr>\n",
       "      <th>yr_renovated</th>\n",
       "      <td>0.126415</td>\n",
       "      <td>0.018389</td>\n",
       "      <td>0.050544</td>\n",
       "      <td>0.055308</td>\n",
       "      <td>0.007686</td>\n",
       "      <td>0.006427</td>\n",
       "      <td>0.092873</td>\n",
       "      <td>0.103951</td>\n",
       "      <td>-0.060788</td>\n",
       "      <td>0.014261</td>\n",
       "      <td>0.023251</td>\n",
       "      <td>0.071233</td>\n",
       "      <td>-0.224907</td>\n",
       "      <td>1.000000</td>\n",
       "      <td>0.064325</td>\n",
       "      <td>0.029350</td>\n",
       "      <td>-0.068321</td>\n",
       "      <td>-0.002695</td>\n",
       "      <td>0.007944</td>\n",
       "    </tr>\n",
       "    <tr>\n",
       "      <th>zipcode</th>\n",
       "      <td>-0.053437</td>\n",
       "      <td>-0.154092</td>\n",
       "      <td>-0.204786</td>\n",
       "      <td>-0.199802</td>\n",
       "      <td>-0.129586</td>\n",
       "      <td>-0.059541</td>\n",
       "      <td>0.030272</td>\n",
       "      <td>0.084622</td>\n",
       "      <td>0.002888</td>\n",
       "      <td>-0.185771</td>\n",
       "      <td>-0.261570</td>\n",
       "      <td>0.074725</td>\n",
       "      <td>-0.347210</td>\n",
       "      <td>0.064325</td>\n",
       "      <td>1.000000</td>\n",
       "      <td>0.266742</td>\n",
       "      <td>-0.564259</td>\n",
       "      <td>-0.279299</td>\n",
       "      <td>-0.147294</td>\n",
       "    </tr>\n",
       "    <tr>\n",
       "      <th>lat</th>\n",
       "      <td>0.306777</td>\n",
       "      <td>-0.009951</td>\n",
       "      <td>0.024280</td>\n",
       "      <td>0.052155</td>\n",
       "      <td>-0.085514</td>\n",
       "      <td>0.049239</td>\n",
       "      <td>-0.014306</td>\n",
       "      <td>0.005871</td>\n",
       "      <td>-0.015102</td>\n",
       "      <td>0.113575</td>\n",
       "      <td>-0.001199</td>\n",
       "      <td>0.110414</td>\n",
       "      <td>-0.148370</td>\n",
       "      <td>0.029350</td>\n",
       "      <td>0.266742</td>\n",
       "      <td>1.000000</td>\n",
       "      <td>-0.135371</td>\n",
       "      <td>0.048679</td>\n",
       "      <td>-0.086139</td>\n",
       "    </tr>\n",
       "    <tr>\n",
       "      <th>long</th>\n",
       "      <td>0.022092</td>\n",
       "      <td>0.132054</td>\n",
       "      <td>0.224903</td>\n",
       "      <td>0.241214</td>\n",
       "      <td>0.230227</td>\n",
       "      <td>0.125943</td>\n",
       "      <td>-0.041904</td>\n",
       "      <td>-0.078107</td>\n",
       "      <td>-0.105877</td>\n",
       "      <td>0.200341</td>\n",
       "      <td>0.344842</td>\n",
       "      <td>-0.144546</td>\n",
       "      <td>0.409993</td>\n",
       "      <td>-0.068321</td>\n",
       "      <td>-0.564259</td>\n",
       "      <td>-0.135371</td>\n",
       "      <td>1.000000</td>\n",
       "      <td>0.335626</td>\n",
       "      <td>0.255586</td>\n",
       "    </tr>\n",
       "    <tr>\n",
       "      <th>sqft_living15</th>\n",
       "      <td>0.585247</td>\n",
       "      <td>0.393406</td>\n",
       "      <td>0.569884</td>\n",
       "      <td>0.756402</td>\n",
       "      <td>0.144763</td>\n",
       "      <td>0.280102</td>\n",
       "      <td>0.086507</td>\n",
       "      <td>0.280681</td>\n",
       "      <td>-0.093072</td>\n",
       "      <td>0.713867</td>\n",
       "      <td>0.731767</td>\n",
       "      <td>0.200443</td>\n",
       "      <td>0.326377</td>\n",
       "      <td>-0.002695</td>\n",
       "      <td>-0.279299</td>\n",
       "      <td>0.048679</td>\n",
       "      <td>0.335626</td>\n",
       "      <td>1.000000</td>\n",
       "      <td>0.183515</td>\n",
       "    </tr>\n",
       "    <tr>\n",
       "      <th>sqft_lot15</th>\n",
       "      <td>0.082837</td>\n",
       "      <td>0.030690</td>\n",
       "      <td>0.088303</td>\n",
       "      <td>0.184342</td>\n",
       "      <td>0.718204</td>\n",
       "      <td>-0.010722</td>\n",
       "      <td>0.030781</td>\n",
       "      <td>0.072904</td>\n",
       "      <td>-0.003126</td>\n",
       "      <td>0.120981</td>\n",
       "      <td>0.195077</td>\n",
       "      <td>0.017550</td>\n",
       "      <td>0.070777</td>\n",
       "      <td>0.007944</td>\n",
       "      <td>-0.147294</td>\n",
       "      <td>-0.086139</td>\n",
       "      <td>0.255586</td>\n",
       "      <td>0.183515</td>\n",
       "      <td>1.000000</td>\n",
       "    </tr>\n",
       "  </tbody>\n",
       "</table>\n",
       "</div>"
      ],
      "text/plain": [
       "                  price  bedrooms  bathrooms  sqft_living  sqft_lot    floors  \\\n",
       "price          1.000000  0.308794   0.525905     0.701909  0.089882  0.256814   \n",
       "bedrooms       0.308794  1.000000   0.514508     0.578212  0.032471  0.177944   \n",
       "bathrooms      0.525905  0.514508   1.000000     0.755758  0.088373  0.502582   \n",
       "sqft_living    0.701909  0.578212   0.755758     1.000000  0.173453  0.353953   \n",
       "sqft_lot       0.089882  0.032471   0.088373     0.173453  1.000000 -0.004814   \n",
       "floors         0.256814  0.177944   0.502582     0.353953 -0.004814  1.000000   \n",
       "waterfront     0.266437 -0.006834   0.063744     0.103854  0.021632  0.023755   \n",
       "view           0.397318  0.080008   0.188386     0.284709  0.074900  0.028814   \n",
       "condition      0.036025  0.026496  -0.126479    -0.059445 -0.008830 -0.264075   \n",
       "grade          0.667922  0.356563   0.665838     0.762779  0.114731  0.458794   \n",
       "sqft_above     0.605371  0.479386   0.686668     0.876448  0.184139  0.523989   \n",
       "sqft_basement  0.323776  0.302808   0.283440     0.435130  0.015418 -0.245715   \n",
       "yr_built       0.053984  0.155670   0.507173     0.318152  0.052946  0.489193   \n",
       "yr_renovated   0.126415  0.018389   0.050544     0.055308  0.007686  0.006427   \n",
       "zipcode       -0.053437 -0.154092  -0.204786    -0.199802 -0.129586 -0.059541   \n",
       "lat            0.306777 -0.009951   0.024280     0.052155 -0.085514  0.049239   \n",
       "long           0.022092  0.132054   0.224903     0.241214  0.230227  0.125943   \n",
       "sqft_living15  0.585247  0.393406   0.569884     0.756402  0.144763  0.280102   \n",
       "sqft_lot15     0.082837  0.030690   0.088303     0.184342  0.718204 -0.010722   \n",
       "\n",
       "               waterfront      view  condition     grade  sqft_above  \\\n",
       "price            0.266437  0.397318   0.036025  0.667922    0.605371   \n",
       "bedrooms        -0.006834  0.080008   0.026496  0.356563    0.479386   \n",
       "bathrooms        0.063744  0.188386  -0.126479  0.665838    0.686668   \n",
       "sqft_living      0.103854  0.284709  -0.059445  0.762779    0.876448   \n",
       "sqft_lot         0.021632  0.074900  -0.008830  0.114731    0.184139   \n",
       "floors           0.023755  0.028814  -0.264075  0.458794    0.523989   \n",
       "waterfront       1.000000  0.401971   0.016611  0.082888    0.072109   \n",
       "view             0.401971  1.000000   0.045999  0.251728    0.167609   \n",
       "condition        0.016611  0.045999   1.000000 -0.146896   -0.158904   \n",
       "grade            0.082888  0.251728  -0.146896  1.000000    0.756073   \n",
       "sqft_above       0.072109  0.167609  -0.158904  0.756073    1.000000   \n",
       "sqft_basement    0.080559  0.277078   0.173849  0.168220   -0.052156   \n",
       "yr_built        -0.026153 -0.053636  -0.361592  0.447865    0.424037   \n",
       "yr_renovated     0.092873  0.103951  -0.060788  0.014261    0.023251   \n",
       "zipcode          0.030272  0.084622   0.002888 -0.185771   -0.261570   \n",
       "lat             -0.014306  0.005871  -0.015102  0.113575   -0.001199   \n",
       "long            -0.041904 -0.078107  -0.105877  0.200341    0.344842   \n",
       "sqft_living15    0.086507  0.280681  -0.093072  0.713867    0.731767   \n",
       "sqft_lot15       0.030781  0.072904  -0.003126  0.120981    0.195077   \n",
       "\n",
       "               sqft_basement  yr_built  yr_renovated   zipcode       lat  \\\n",
       "price               0.323776  0.053984      0.126415 -0.053437  0.306777   \n",
       "bedrooms            0.302808  0.155670      0.018389 -0.154092 -0.009951   \n",
       "bathrooms           0.283440  0.507173      0.050544 -0.204786  0.024280   \n",
       "sqft_living         0.435130  0.318152      0.055308 -0.199802  0.052155   \n",
       "sqft_lot            0.015418  0.052946      0.007686 -0.129586 -0.085514   \n",
       "floors             -0.245715  0.489193      0.006427 -0.059541  0.049239   \n",
       "waterfront          0.080559 -0.026153      0.092873  0.030272 -0.014306   \n",
       "view                0.277078 -0.053636      0.103951  0.084622  0.005871   \n",
       "condition           0.173849 -0.361592     -0.060788  0.002888 -0.015102   \n",
       "grade               0.168220  0.447865      0.014261 -0.185771  0.113575   \n",
       "sqft_above         -0.052156  0.424037      0.023251 -0.261570 -0.001199   \n",
       "sqft_basement       1.000000 -0.133064      0.071233  0.074725  0.110414   \n",
       "yr_built           -0.133064  1.000000     -0.224907 -0.347210 -0.148370   \n",
       "yr_renovated        0.071233 -0.224907      1.000000  0.064325  0.029350   \n",
       "zipcode             0.074725 -0.347210      0.064325  1.000000  0.266742   \n",
       "lat                 0.110414 -0.148370      0.029350  0.266742  1.000000   \n",
       "long               -0.144546  0.409993     -0.068321 -0.564259 -0.135371   \n",
       "sqft_living15       0.200443  0.326377     -0.002695 -0.279299  0.048679   \n",
       "sqft_lot15          0.017550  0.070777      0.007944 -0.147294 -0.086139   \n",
       "\n",
       "                   long  sqft_living15  sqft_lot15  \n",
       "price          0.022092       0.585247    0.082837  \n",
       "bedrooms       0.132054       0.393406    0.030690  \n",
       "bathrooms      0.224903       0.569884    0.088303  \n",
       "sqft_living    0.241214       0.756402    0.184342  \n",
       "sqft_lot       0.230227       0.144763    0.718204  \n",
       "floors         0.125943       0.280102   -0.010722  \n",
       "waterfront    -0.041904       0.086507    0.030781  \n",
       "view          -0.078107       0.280681    0.072904  \n",
       "condition     -0.105877      -0.093072   -0.003126  \n",
       "grade          0.200341       0.713867    0.120981  \n",
       "sqft_above     0.344842       0.731767    0.195077  \n",
       "sqft_basement -0.144546       0.200443    0.017550  \n",
       "yr_built       0.409993       0.326377    0.070777  \n",
       "yr_renovated  -0.068321      -0.002695    0.007944  \n",
       "zipcode       -0.564259      -0.279299   -0.147294  \n",
       "lat           -0.135371       0.048679   -0.086139  \n",
       "long           1.000000       0.335626    0.255586  \n",
       "sqft_living15  0.335626       1.000000    0.183515  \n",
       "sqft_lot15     0.255586       0.183515    1.000000  "
      ]
     },
     "execution_count": 171,
     "metadata": {},
     "output_type": "execute_result"
    }
   ],
   "source": [
    "data.corr()"
   ]
  },
  {
   "cell_type": "code",
   "execution_count": 172,
   "metadata": {},
   "outputs": [
    {
     "data": {
      "text/plain": [
       "price            1.000000\n",
       "bedrooms         0.308794\n",
       "bathrooms        0.525905\n",
       "sqft_living      0.701909\n",
       "sqft_lot         0.089882\n",
       "floors           0.256814\n",
       "waterfront       0.266437\n",
       "view             0.397318\n",
       "condition        0.036025\n",
       "grade            0.667922\n",
       "sqft_above       0.605371\n",
       "sqft_basement    0.323776\n",
       "yr_built         0.053984\n",
       "yr_renovated     0.126415\n",
       "zipcode         -0.053437\n",
       "lat              0.306777\n",
       "long             0.022092\n",
       "sqft_living15    0.585247\n",
       "sqft_lot15       0.082837\n",
       "Name: price, dtype: float64"
      ]
     },
     "execution_count": 172,
     "metadata": {},
     "output_type": "execute_result"
    }
   ],
   "source": [
    "data.corr()['price']"
   ]
  },
  {
   "cell_type": "markdown",
   "metadata": {},
   "source": [
    "**sqft_living, grade, sqft_above** and **sqft_living15** have significant correlation with 'price'"
   ]
  },
  {
   "cell_type": "markdown",
   "metadata": {},
   "source": [
    "### 4. Model Development"
   ]
  },
  {
   "cell_type": "code",
   "execution_count": 263,
   "metadata": {},
   "outputs": [],
   "source": [
    "from sklearn.linear_model import LinearRegression\n",
    "from sklearn.model_selection import train_test_split\n",
    "lr1= LinearRegression()               # simple linear regression"
   ]
  },
  {
   "cell_type": "code",
   "execution_count": 265,
   "metadata": {},
   "outputs": [
    {
     "name": "stdout",
     "output_type": "stream",
     "text": [
      "R^2: 0.0004880571908287834\n"
     ]
    }
   ],
   "source": [
    "lr1.fit(data[['long']], data[['price']])\n",
    "print('R^2:',lr1.score(data[['long']], data[['price']]))"
   ]
  },
  {
   "cell_type": "code",
   "execution_count": 174,
   "metadata": {},
   "outputs": [
    {
     "data": {
      "text/plain": [
       "<matplotlib.axes._subplots.AxesSubplot at 0x278373cc208>"
      ]
     },
     "execution_count": 174,
     "metadata": {},
     "output_type": "execute_result"
    },
    {
     "data": {
      "image/png": "[encoded data removed]",
      "text/plain": [
       "<Figure size 432x288 with 1 Axes>"
      ]
     },
     "metadata": {
      "needs_background": "light"
     },
     "output_type": "display_data"
    }
   ],
   "source": [
    "sns.regplot(x=data[['long']], y=data[['price']])"
   ]
  },
  {
   "cell_type": "markdown",
   "metadata": {},
   "source": [
    "We will fit a linear regression model to predict the 'price' using the feature 'sqft_living' then calculate the R^2."
   ]
  },
  {
   "cell_type": "code",
   "execution_count": 261,
   "metadata": {},
   "outputs": [
    {
     "name": "stdout",
     "output_type": "stream",
     "text": [
      "R^2: 0.44622854390569905\n"
     ]
    },
    {
     "data": {
      "image/png": "[encoded data removed]",
      "text/plain": [
       "<Figure size 432x288 with 1 Axes>"
      ]
     },
     "metadata": {
      "needs_background": "light"
     },
     "output_type": "display_data"
    }
   ],
   "source": [
    "sns.regplot(x=data[['sqft_living']], y=data[['price']])\n",
    "print('R^2:',lr1.score(data[['sqft_living']], data[['price']]))   #R^2"
   ]
  },
  {
   "cell_type": "markdown",
   "metadata": {},
   "source": [
    "**grade** vs **price**"
   ]
  },
  {
   "cell_type": "code",
   "execution_count": 260,
   "metadata": {},
   "outputs": [
    {
     "name": "stdout",
     "output_type": "stream",
     "text": [
      "R^2: -1.695351263836364\n"
     ]
    },
    {
     "data": {
      "image/png": "[encoded data removed]",
      "text/plain": [
       "<Figure size 432x288 with 1 Axes>"
      ]
     },
     "metadata": {
      "needs_background": "light"
     },
     "output_type": "display_data"
    }
   ],
   "source": [
    "sns.regplot(x=data[['grade']], y=data[['price']])\n",
    "print('R^2:',lr1.score(data[['grade']], data[['price']]))   #R^2"
   ]
  },
  {
   "cell_type": "markdown",
   "metadata": {},
   "source": [
    "**sqft_living15** vs **price**"
   ]
  },
  {
   "cell_type": "code",
   "execution_count": 259,
   "metadata": {},
   "outputs": [
    {
     "name": "stdout",
     "output_type": "stream",
     "text": [
      "R^2: 0.44622854390569905\n"
     ]
    },
    {
     "data": {
      "image/png": "[encoded data removed]",
      "text/plain": [
       "<Figure size 432x288 with 1 Axes>"
      ]
     },
     "metadata": {
      "needs_background": "light"
     },
     "output_type": "display_data"
    }
   ],
   "source": [
    "sns.regplot(x=data[['sqft_living15']], y=data[['price']])\n",
    "print('R^2:',lr1.score(data[['sqft_living']], data[['price']]))   #R^2"
   ]
  },
  {
   "cell_type": "markdown",
   "metadata": {},
   "source": [
    "**sqft_living** has highest score and hance it will is the best model out of these."
   ]
  },
  {
   "cell_type": "markdown",
   "metadata": {},
   "source": [
    "####  Multiple Linear Regression :"
   ]
  },
  {
   "cell_type": "code",
   "execution_count": 255,
   "metadata": {},
   "outputs": [
    {
     "data": {
      "text/plain": [
       "-32410581.080242626"
      ]
     },
     "execution_count": 255,
     "metadata": {},
     "output_type": "execute_result"
    }
   ],
   "source": [
    "x =data[[\"floors\", \"waterfront\",\"lat\" ,\"bedrooms\" ,\"sqft_basement\" ,\"view\" ,\"bathrooms\",\"sqft_living15\",\"sqft_above\",\n",
    "              \"grade\",\"sqft_living\"]]\n",
    "y=data['price']\n",
    "\n",
    "mlr= LinearRegression()\n",
    "mlr.fit(x,y)\n",
    "mlr.intercept_"
   ]
  },
  {
   "cell_type": "code",
   "execution_count": 181,
   "metadata": {},
   "outputs": [
    {
     "data": {
      "text/plain": [
       "array([-2.88899012e+04,  6.03070370e+05,  6.73342354e+05, -2.61977246e+04,\n",
       "       -1.54323214e+15,  6.69853285e+04, -3.72225679e+03,  3.43376657e+00,\n",
       "       -1.54323214e+15,  8.28528599e+04,  1.54323214e+15])"
      ]
     },
     "execution_count": 181,
     "metadata": {},
     "output_type": "execute_result"
    }
   ],
   "source": [
    "mlr.coef_"
   ]
  },
  {
   "cell_type": "code",
   "execution_count": 182,
   "metadata": {},
   "outputs": [
    {
     "data": {
      "text/plain": [
       "0.6578182983974398"
      ]
     },
     "execution_count": 182,
     "metadata": {},
     "output_type": "execute_result"
    }
   ],
   "source": [
    "mlr.score(x,y)"
   ]
  },
  {
   "cell_type": "code",
   "execution_count": 183,
   "metadata": {},
   "outputs": [
    {
     "data": {
      "image/png": "[encoded data removed]",
      "text/plain": [
       "<Figure size 1080x720 with 1 Axes>"
      ]
     },
     "metadata": {
      "needs_background": "light"
     },
     "output_type": "display_data"
    }
   ],
   "source": [
    "plt.figure(figsize=(15, 10))\n",
    "\n",
    "\n",
    "ax1 = sns.distplot(y, hist=False, color=\"r\", label=\"Actual Value\")\n",
    "sns.distplot(y_hat, hist=False, color=\"b\", label=\"Predicted Values\" , ax=ax1)\n",
    "\n",
    "\n",
    "plt.title('Actual vs Fitted Values for Price')\n",
    "plt.xlabel('Price (in dollars)')\n",
    "plt.ylabel('Predicted Price')\n",
    "\n",
    "plt.show()"
   ]
  },
  {
   "cell_type": "markdown",
   "metadata": {},
   "source": [
    "The R^2 value is 0.66"
   ]
  },
  {
   "cell_type": "markdown",
   "metadata": {},
   "source": [
    "#### Using the list to create a pipeline object,  predict the 'price', fit the object using the features in the list <code> x </code>, then fit the model and calculate the R^2"
   ]
  },
  {
   "cell_type": "code",
   "execution_count": 184,
   "metadata": {},
   "outputs": [],
   "source": [
    "from sklearn.pipeline import Pipeline\n",
    "from sklearn.preprocessing import StandardScaler, PolynomialFeatures"
   ]
  },
  {
   "cell_type": "code",
   "execution_count": 185,
   "metadata": {},
   "outputs": [],
   "source": [
    "input= [('scale', StandardScaler()), ('polynomial', PolynomialFeatures()), ('model', LinearRegression())]"
   ]
  },
  {
   "cell_type": "code",
   "execution_count": 186,
   "metadata": {},
   "outputs": [],
   "source": [
    "pipe= Pipeline(input)"
   ]
  },
  {
   "cell_type": "code",
   "execution_count": 187,
   "metadata": {},
   "outputs": [
    {
     "data": {
      "text/plain": [
       "Pipeline(memory=None,\n",
       "         steps=[('scale',\n",
       "                 StandardScaler(copy=True, with_mean=True, with_std=True)),\n",
       "                ('polynomial',\n",
       "                 PolynomialFeatures(degree=2, include_bias=True,\n",
       "                                    interaction_only=False, order='C')),\n",
       "                ('model',\n",
       "                 LinearRegression(copy_X=True, fit_intercept=True, n_jobs=None,\n",
       "                                  normalize=False))],\n",
       "         verbose=False)"
      ]
     },
     "execution_count": 187,
     "metadata": {},
     "output_type": "execute_result"
    }
   ],
   "source": [
    "pipe.fit(x,y)"
   ]
  },
  {
   "cell_type": "code",
   "execution_count": 188,
   "metadata": {},
   "outputs": [],
   "source": [
    "y_hat= pipe.predict(x)"
   ]
  },
  {
   "cell_type": "code",
   "execution_count": 189,
   "metadata": {},
   "outputs": [
    {
     "data": {
      "text/plain": [
       "array([349593. , 558013.5, 451281. , 392880. , 520870. ])"
      ]
     },
     "execution_count": 189,
     "metadata": {},
     "output_type": "execute_result"
    }
   ],
   "source": [
    "y_hat[0:5]"
   ]
  },
  {
   "cell_type": "code",
   "execution_count": 190,
   "metadata": {},
   "outputs": [
    {
     "data": {
      "text/plain": [
       "0.7513821699337961"
      ]
     },
     "execution_count": 190,
     "metadata": {},
     "output_type": "execute_result"
    }
   ],
   "source": [
    "pipe.score(x,y)"
   ]
  },
  {
   "cell_type": "code",
   "execution_count": null,
   "metadata": {},
   "outputs": [],
   "source": []
  },
  {
   "cell_type": "markdown",
   "metadata": {},
   "source": [
    "### 5: MODEL EVALUATION AND REFINEMENT\n"
   ]
  },
  {
   "cell_type": "code",
   "execution_count": 191,
   "metadata": {},
   "outputs": [],
   "source": [
    "from sklearn.model_selection import cross_val_score\n",
    "from sklearn.model_selection import train_test_split"
   ]
  },
  {
   "cell_type": "markdown",
   "metadata": {},
   "source": [
    "#### Training the model with train data"
   ]
  },
  {
   "cell_type": "code",
   "execution_count": 192,
   "metadata": {},
   "outputs": [
    {
     "name": "stdout",
     "output_type": "stream",
     "text": [
      "train data: (17277, 11) (17277,)\n",
      "test data: (4320, 11) (4320,)\n"
     ]
    }
   ],
   "source": [
    "x_train, x_test, y_train, y_test = train_test_split(x, y, test_size= 0.2, random_state=0)\n",
    "print( 'train data:', x_train.shape, y_train.shape)\n",
    "print( 'test data:', x_test.shape, y_test.shape)"
   ]
  },
  {
   "cell_type": "code",
   "execution_count": 193,
   "metadata": {},
   "outputs": [
    {
     "data": {
      "text/plain": [
       "Pipeline(memory=None,\n",
       "         steps=[('scale',\n",
       "                 StandardScaler(copy=True, with_mean=True, with_std=True)),\n",
       "                ('polynomial',\n",
       "                 PolynomialFeatures(degree=2, include_bias=True,\n",
       "                                    interaction_only=False, order='C')),\n",
       "                ('model',\n",
       "                 LinearRegression(copy_X=True, fit_intercept=True, n_jobs=None,\n",
       "                                  normalize=False))],\n",
       "         verbose=False)"
      ]
     },
     "execution_count": 193,
     "metadata": {},
     "output_type": "execute_result"
    }
   ],
   "source": [
    "pipe.fit(x_train, y_train)"
   ]
  },
  {
   "cell_type": "code",
   "execution_count": 195,
   "metadata": {},
   "outputs": [
    {
     "data": {
      "text/plain": [
       "array([1300361.5,  291497.5,  159376. ,  524757.5,  733001.5])"
      ]
     },
     "execution_count": 195,
     "metadata": {},
     "output_type": "execute_result"
    }
   ],
   "source": [
    "y_train_hat= pipe.predict(x_train)\n",
    "y_train_hat[0:5]"
   ]
  },
  {
   "cell_type": "markdown",
   "metadata": {},
   "source": [
    "#### Training with test data"
   ]
  },
  {
   "cell_type": "code",
   "execution_count": 202,
   "metadata": {},
   "outputs": [
    {
     "name": "stdout",
     "output_type": "stream",
     "text": [
      "156      650000.0\n",
      "15586    625000.0\n",
      "2082     822500.0\n",
      "17536    179900.0\n",
      "8367     370000.0\n",
      "Name: price, dtype: float64 [938921.5 620923.5 924355.5 163225.5 553849.5]\n"
     ]
    }
   ],
   "source": [
    "y_test_hat=pipe.predict(x_test)\n",
    "print(y_test[0:5], y_test_hat[0:5])\n"
   ]
  },
  {
   "cell_type": "markdown",
   "metadata": {},
   "source": [
    "#### Evaluation"
   ]
  },
  {
   "cell_type": "code",
   "execution_count": 203,
   "metadata": {},
   "outputs": [
    {
     "data": {
      "text/plain": [
       "0.7534439881757301"
      ]
     },
     "execution_count": 203,
     "metadata": {},
     "output_type": "execute_result"
    }
   ],
   "source": [
    "pipe.score(x_train, y_train)"
   ]
  },
  {
   "cell_type": "code",
   "execution_count": 205,
   "metadata": {},
   "outputs": [
    {
     "data": {
      "text/plain": [
       "0.738859541680613"
      ]
     },
     "execution_count": 205,
     "metadata": {},
     "output_type": "execute_result"
    }
   ],
   "source": [
    "pipe.score(x_test, y_test)"
   ]
  },
  {
   "cell_type": "markdown",
   "metadata": {},
   "source": [
    "There is not a much difference between in-sample and out-sample accuracy score"
   ]
  },
  {
   "cell_type": "markdown",
   "metadata": {},
   "source": [
    "##### Cross Validation Score Method"
   ]
  },
  {
   "cell_type": "code",
   "execution_count": 206,
   "metadata": {},
   "outputs": [],
   "source": [
    "from sklearn.model_selection import cross_val_score"
   ]
  },
  {
   "cell_type": "markdown",
   "metadata": {},
   "source": [
    "The parameter 'cv' determines the number of folds; in this case 4."
   ]
  },
  {
   "cell_type": "code",
   "execution_count": 208,
   "metadata": {},
   "outputs": [
    {
     "data": {
      "text/plain": [
       "array([0.75276295, 0.73817077, 0.69274109, 0.73399726])"
      ]
     },
     "execution_count": 208,
     "metadata": {},
     "output_type": "execute_result"
    }
   ],
   "source": [
    "Rcross = cross_val_score(pipe, x, y, cv=4)\n",
    "Rcross"
   ]
  },
  {
   "cell_type": "markdown",
   "metadata": {},
   "source": [
    "Calculating the average and standard deviation of our estimates:"
   ]
  },
  {
   "cell_type": "code",
   "execution_count": 210,
   "metadata": {},
   "outputs": [
    {
     "name": "stdout",
     "output_type": "stream",
     "text": [
      "The mean of the folds are 0.7294180184741832\n",
      "Standard deviation is 0.022292166303951685\n"
     ]
    }
   ],
   "source": [
    "print(\"The mean of the folds are\", Rcross.mean())\n",
    "print(\"Standard deviation is\" , Rcross.std())"
   ]
  },
  {
   "cell_type": "markdown",
   "metadata": {},
   "source": [
    "Here, the mean value of accuracy is **73%**, hence model is a **good fit**."
   ]
  },
  {
   "cell_type": "markdown",
   "metadata": {},
   "source": [
    "##### Error Metrics"
   ]
  },
  {
   "cell_type": "code",
   "execution_count": 246,
   "metadata": {},
   "outputs": [
    {
     "name": "stdout",
     "output_type": "stream",
     "text": [
      "MAE(Mean Absolute Error for train data): 115520.07096139377\n",
      "MAE(Mean Absolute Error for test data): 113212.59143518518\n"
     ]
    }
   ],
   "source": [
    "from sklearn import metrics\n",
    "print('MAE(Mean Absolute Error for train data):', metrics.mean_absolute_error(y_train, y_train_hat))\n",
    "print('MAE(Mean Absolute Error for test data):', metrics.mean_absolute_error(y_test, y_test_hat))"
   ]
  },
  {
   "cell_type": "code",
   "execution_count": 249,
   "metadata": {},
   "outputs": [
    {
     "name": "stdout",
     "output_type": "stream",
     "text": [
      "RMSE(Root Mean Squarred Error for train data): 185183.0714806332\n",
      "RMSE(Root Mean Squarred Error for test data): 175169.3773600782\n"
     ]
    }
   ],
   "source": [
    "print('RMSE(Root Mean Squarred Error for train data):', np.sqrt(metrics.mean_squared_error(y_train, y_train_hat)))\n",
    "print('RMSE(Root Mean Squarred Error for test data):', np.sqrt(metrics.mean_squared_error(y_test, y_test_hat)))"
   ]
  },
  {
   "cell_type": "markdown",
   "metadata": {},
   "source": [
    "We find here that MAE and RMSE in training data and testing data are close enough. Hence, model behaves as a **good fit**."
   ]
  },
  {
   "cell_type": "markdown",
   "metadata": {},
   "source": [
    "##### Distrubution Plot method"
   ]
  },
  {
   "cell_type": "code",
   "execution_count": 237,
   "metadata": {},
   "outputs": [
    {
     "data": {
      "text/html": [
       "<div>\n",
       "<style scoped>\n",
       "    .dataframe tbody tr th:only-of-type {\n",
       "        vertical-align: middle;\n",
       "    }\n",
       "\n",
       "    .dataframe tbody tr th {\n",
       "        vertical-align: top;\n",
       "    }\n",
       "\n",
       "    .dataframe thead th {\n",
       "        text-align: right;\n",
       "    }\n",
       "</style>\n",
       "<table border=\"1\" class=\"dataframe\">\n",
       "  <thead>\n",
       "    <tr style=\"text-align: right;\">\n",
       "      <th></th>\n",
       "      <th>Actual</th>\n",
       "      <th>Predicted</th>\n",
       "    </tr>\n",
       "  </thead>\n",
       "  <tbody>\n",
       "    <tr>\n",
       "      <th>3934</th>\n",
       "      <td>1379900.0</td>\n",
       "      <td>1300361.5</td>\n",
       "    </tr>\n",
       "    <tr>\n",
       "      <th>8274</th>\n",
       "      <td>82000.0</td>\n",
       "      <td>291497.5</td>\n",
       "    </tr>\n",
       "    <tr>\n",
       "      <th>15621</th>\n",
       "      <td>220000.0</td>\n",
       "      <td>159376.0</td>\n",
       "    </tr>\n",
       "    <tr>\n",
       "      <th>6686</th>\n",
       "      <td>369950.0</td>\n",
       "      <td>524757.5</td>\n",
       "    </tr>\n",
       "    <tr>\n",
       "      <th>7006</th>\n",
       "      <td>870000.0</td>\n",
       "      <td>733001.5</td>\n",
       "    </tr>\n",
       "  </tbody>\n",
       "</table>\n",
       "</div>"
      ],
      "text/plain": [
       "          Actual  Predicted\n",
       "3934   1379900.0  1300361.5\n",
       "8274     82000.0   291497.5\n",
       "15621   220000.0   159376.0\n",
       "6686    369950.0   524757.5\n",
       "7006    870000.0   733001.5"
      ]
     },
     "execution_count": 237,
     "metadata": {},
     "output_type": "execute_result"
    }
   ],
   "source": [
    "df_train = pd.DataFrame({'Actual': y_train, 'Predicted': y_train_hat})\n",
    "df_train.head()"
   ]
  },
  {
   "cell_type": "code",
   "execution_count": 238,
   "metadata": {},
   "outputs": [
    {
     "data": {
      "text/html": [
       "<div>\n",
       "<style scoped>\n",
       "    .dataframe tbody tr th:only-of-type {\n",
       "        vertical-align: middle;\n",
       "    }\n",
       "\n",
       "    .dataframe tbody tr th {\n",
       "        vertical-align: top;\n",
       "    }\n",
       "\n",
       "    .dataframe thead th {\n",
       "        text-align: right;\n",
       "    }\n",
       "</style>\n",
       "<table border=\"1\" class=\"dataframe\">\n",
       "  <thead>\n",
       "    <tr style=\"text-align: right;\">\n",
       "      <th></th>\n",
       "      <th>Actual</th>\n",
       "      <th>Predicted</th>\n",
       "    </tr>\n",
       "  </thead>\n",
       "  <tbody>\n",
       "    <tr>\n",
       "      <th>156</th>\n",
       "      <td>650000.0</td>\n",
       "      <td>938921.5</td>\n",
       "    </tr>\n",
       "    <tr>\n",
       "      <th>15586</th>\n",
       "      <td>625000.0</td>\n",
       "      <td>620923.5</td>\n",
       "    </tr>\n",
       "    <tr>\n",
       "      <th>2082</th>\n",
       "      <td>822500.0</td>\n",
       "      <td>924355.5</td>\n",
       "    </tr>\n",
       "    <tr>\n",
       "      <th>17536</th>\n",
       "      <td>179900.0</td>\n",
       "      <td>163225.5</td>\n",
       "    </tr>\n",
       "    <tr>\n",
       "      <th>8367</th>\n",
       "      <td>370000.0</td>\n",
       "      <td>553849.5</td>\n",
       "    </tr>\n",
       "  </tbody>\n",
       "</table>\n",
       "</div>"
      ],
      "text/plain": [
       "         Actual  Predicted\n",
       "156    650000.0   938921.5\n",
       "15586  625000.0   620923.5\n",
       "2082   822500.0   924355.5\n",
       "17536  179900.0   163225.5\n",
       "8367   370000.0   553849.5"
      ]
     },
     "execution_count": 238,
     "metadata": {},
     "output_type": "execute_result"
    }
   ],
   "source": [
    "df_test = pd.DataFrame({'Actual': y_test, 'Predicted': y_test_hat})\n",
    "df_test.head()"
   ]
  },
  {
   "cell_type": "code",
   "execution_count": 245,
   "metadata": {},
   "outputs": [
    {
     "data": {
      "image/png": "[encoded data removed]",
      "text/plain": [
       "<Figure size 432x288 with 1 Axes>"
      ]
     },
     "metadata": {
      "needs_background": "light"
     },
     "output_type": "display_data"
    },
    {
     "data": {
      "image/png": "[encoded data removed]",
      "text/plain": [
       "<Figure size 720x288 with 1 Axes>"
      ]
     },
     "metadata": {
      "needs_background": "light"
     },
     "output_type": "display_data"
    },
    {
     "data": {
      "image/png": "[encoded data removed]",
      "text/plain": [
       "<Figure size 432x288 with 1 Axes>"
      ]
     },
     "metadata": {
      "needs_background": "light"
     },
     "output_type": "display_data"
    },
    {
     "data": {
      "image/png": "[encoded data removed]",
      "text/plain": [
       "<Figure size 720x288 with 1 Axes>"
      ]
     },
     "metadata": {
      "needs_background": "light"
     },
     "output_type": "display_data"
    }
   ],
   "source": [
    "df_tr = df_train.head(30)\n",
    "df_te = df_test.head(30)\n",
    "\n",
    "plt.subplot(2,1,1)\n",
    "df_tr.plot(kind='bar',figsize=(10,4))\n",
    "plt.grid(which='major', linestyle='-', linewidth='0.5', color='green')\n",
    "plt.grid(which='minor', linestyle=':', linewidth='0.5', color='red')\n",
    "plt.show()\n",
    "\n",
    "plt.subplot(2,1,2)\n",
    "df_te.plot(kind='bar',figsize=(10,4))\n",
    "plt.grid(which='major', linestyle='-', linewidth='0.5', color='green')\n",
    "plt.grid(which='minor', linestyle=':', linewidth='0.5', color='red')\n",
    "plt.show()"
   ]
  },
  {
   "cell_type": "markdown",
   "metadata": {},
   "source": [
    "Here, we can see that the predicted values are close to the actual ones except 3 values in train-model and 1 value in test-model."
   ]
  },
  {
   "cell_type": "markdown",
   "metadata": {},
   "source": [
    "Exploring more with distrubutions of actual vs predicted values."
   ]
  },
  {
   "cell_type": "code",
   "execution_count": 224,
   "metadata": {},
   "outputs": [
    {
     "data": {
      "image/png": "[encoded data removed]",
      "text/plain": [
       "<Figure size 576x432 with 1 Axes>"
      ]
     },
     "metadata": {
      "needs_background": "light"
     },
     "output_type": "display_data"
    },
    {
     "name": "stdout",
     "output_type": "stream",
     "text": [
      "R^2: 0.7534439881757301\n"
     ]
    },
    {
     "data": {
      "image/png": "[encoded data removed]",
      "text/plain": [
       "<Figure size 576x432 with 1 Axes>"
      ]
     },
     "metadata": {
      "needs_background": "light"
     },
     "output_type": "display_data"
    },
    {
     "name": "stdout",
     "output_type": "stream",
     "text": [
      "R^2: 0.738859541680613\n"
     ]
    }
   ],
   "source": [
    "plt.figure(figsize=(8,6))\n",
    "\n",
    "plt.subplot(2,1,1)\n",
    "ax1 = sns.distplot(y_train, hist=False, color=\"r\", label=\"Actual Value\")\n",
    "sns.distplot(y_train_hat, hist=False, color=\"b\", label=\"Predicted Values\" , ax=ax1)\n",
    "\n",
    "plt.title('Actual vs Fitted Values for Price from train data')\n",
    "plt.xlabel('Price (in dollars)')\n",
    "plt.ylabel('Predicted Price')\n",
    "plt.show()\n",
    "print('R^2:',pipe.score(x_train, y_train))\n",
    "\n",
    "plt.figure(figsize=(8,6))\n",
    "plt.subplot(2,1,2)\n",
    "ax2 = sns.distplot(y_test, hist=False, color=\"r\", label=\"Actual Value\")\n",
    "sns.distplot(y_test_hat, hist=False, color=\"b\", label=\"Predicted Values\" , ax=ax2)\n",
    "plt.title('Actual vs Fitted Values for Price in Test data')\n",
    "plt.xlabel('Price (in dollars)')\n",
    "plt.ylabel('Predicted Price')\n",
    "plt.show()\n",
    "print('R^2:',pipe.score(x_test, y_test))\n"
   ]
  },
  {
   "cell_type": "markdown",
   "metadata": {},
   "source": [
    "We notice from the graphical representation that the model is doing well with the train and test data with almost equal efficiency. And, hence again it shows the qualitites of **fit model**."
   ]
  },
  {
   "cell_type": "markdown",
   "metadata": {},
   "source": [
    "### 6. Conclusion"
   ]
  },
  {
   "cell_type": "markdown",
   "metadata": {},
   "source": [
    "**Finally we conclude on the basis of above metrics performances that the model fails to underfitting or overfitting and has a good efficiency in predicting the values out of trained sample.\n",
    "The model is good fit.**"
   ]
  },
  {
   "cell_type": "markdown",
   "metadata": {},
   "source": [
    ".\n",
    "\n",
    "\n",
    "\n",
    "\n",
    "\n",
    "\n",
    "\n",
    "\n",
    "Thanks\n",
    "\n",
    "Arun Virha"
   ]
  },
  {
   "cell_type": "code",
   "execution_count": null,
   "metadata": {},
   "outputs": [],
   "source": []
  }
 ],
 "metadata": {
  "kernelspec": {
   "display_name": "Python 3",
   "language": "python",
   "name": "python3"
  },
  "language_info": {
   "codemirror_mode": {
    "name": "ipython",
    "version": 3
   },
   "file_extension": ".py",
   "mimetype": "text/x-python",
   "name": "python",
   "nbconvert_exporter": "python",
   "pygments_lexer": "ipython3",
   "version": "3.7.6"
  }
 },
 "nbformat": 4,
 "nbformat_minor": 4
}
